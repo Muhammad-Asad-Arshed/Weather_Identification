{
  "nbformat": 4,
  "nbformat_minor": 0,
  "metadata": {
    "accelerator": "GPU",
    "colab": {
      "provenance": []
    },
    "kernelspec": {
      "display_name": "Python 3",
      "language": "python",
      "name": "python3"
    },
    "language_info": {
      "codemirror_mode": {
        "name": "ipython",
        "version": 3
      },
      "file_extension": ".py",
      "mimetype": "text/x-python",
      "name": "python",
      "nbconvert_exporter": "python",
      "pygments_lexer": "ipython3",
      "version": "3.7.6"
    }
  },
  "cells": [
    {
      "cell_type": "markdown",
      "metadata": {
        "id": "1VONsjpqrebI"
      },
      "source": [
        "# Weather Recognition using Transfer Learning Model\n",
        "Ajayi, Gbeminiyi (2018), “Multi-class Weather Dataset for Image Classification”, Mendeley Data, V1, doi: 10.17632/4drtyfjtfy.1\n",
        "https://lionbridge.ai/datasets/top-10-image-classification-datasets-for-machine-learning/"
      ]
    },
    {
      "cell_type": "markdown",
      "metadata": {
        "id": "5dD1EmE1tWcG"
      },
      "source": [
        "## Mounting Google Drive"
      ]
    },
    {
      "cell_type": "code",
      "metadata": {
        "colab": {
          "base_uri": "https://localhost:8080/"
        },
        "id": "v9U4C7ENFhhi",
        "outputId": "a720e0ba-dd33-4f1c-bdbc-26ea7ec6e286"
      },
      "source": [
        "from google.colab import drive\n",
        "drive.mount('/content/drive')"
      ],
      "execution_count": null,
      "outputs": [
        {
          "output_type": "stream",
          "text": [
            "Drive already mounted at /content/drive; to attempt to forcibly remount, call drive.mount(\"/content/drive\", force_remount=True).\n"
          ],
          "name": "stdout"
        }
      ]
    },
    {
      "cell_type": "markdown",
      "metadata": {
        "id": "QsfowSDStnQ5"
      },
      "source": [
        "### Changing the path to Dataset Directory"
      ]
    },
    {
      "cell_type": "code",
      "metadata": {
        "colab": {
          "base_uri": "https://localhost:8080/"
        },
        "id": "QfeeyvzEJb7t",
        "outputId": "a5b5e6e3-e4d4-4279-a6cc-15977ccd7a8e"
      },
      "source": [
        "%cd /content/drive/My Drive/Datasets/WeatherDataset/\n",
        "!pwd"
      ],
      "execution_count": null,
      "outputs": [
        {
          "output_type": "stream",
          "text": [
            "/content/drive/My Drive/Datasets/WeatherDataset\n",
            "/content/drive/My Drive/Datasets/WeatherDataset\n"
          ],
          "name": "stdout"
        }
      ]
    },
    {
      "cell_type": "markdown",
      "metadata": {
        "id": "ryW3sEUGt8TM"
      },
      "source": [
        "### Unzipping the Folder"
      ]
    },
    {
      "cell_type": "code",
      "metadata": {
        "id": "E46bvafGJk3y"
      },
      "source": [
        "#!unzip weather.zip && rm weather.zip"
      ],
      "execution_count": null,
      "outputs": []
    },
    {
      "cell_type": "markdown",
      "metadata": {
        "id": "U4y1d8WQuFcn"
      },
      "source": [
        "# Importing the Required Libraries"
      ]
    },
    {
      "cell_type": "code",
      "metadata": {
        "colab": {
          "base_uri": "https://localhost:8080/"
        },
        "id": "RRQeq2raKKee",
        "outputId": "a96b1447-f61d-47cf-81c7-92f4ab0ecbdb"
      },
      "source": [
        "# Imorting Libraries\n",
        "import keras\n",
        "from keras import objectives, backend as K\n",
        "import tensorflow as tf\n",
        "import os,cv2\n",
        "import numpy as np\n",
        "import matplotlib.pyplot as plt\n",
        "from sklearn.utils import shuffle\n",
        "from sklearn.model_selection import train_test_split\n",
        "from keras import backend as K\n",
        "keras.backend.image_data_format()\n",
        "from keras.utils import np_utils,plot_model\n",
        "from keras.models import Sequential\n",
        "from keras.layers import Dense, Dropout, Activation, Flatten,InputLayer\n",
        "from keras.layers.convolutional import Conv2D, MaxPooling2D\n",
        "from keras.layers.normalization import BatchNormalization\n",
        "from keras.optimizers import SGD,RMSprop,Adam,Adagrad\n",
        "import glob\n",
        "from PIL import Image\n",
        "import os.path\n",
        "from keras.preprocessing.image import ImageDataGenerator\n",
        "from keras.callbacks import ModelCheckpoint\n",
        "from sklearn.metrics import classification_report,confusion_matrix\n",
        "print('Keras version is {}'.format(keras.__version__))\n",
        "print ('Tensorflow verson is {}'.format(tf.__version__))\n",
        "print ('OpenCv version is {}'.format(cv2.__version__))\n"
      ],
      "execution_count": null,
      "outputs": [
        {
          "output_type": "stream",
          "text": [
            "Keras version is 2.4.3\n",
            "Tensorflow verson is 2.4.0\n",
            "OpenCv version is 4.1.2\n"
          ],
          "name": "stdout"
        }
      ]
    },
    {
      "cell_type": "markdown",
      "metadata": {
        "id": "DYEir_72qhBW"
      },
      "source": [
        "## Check the Size of images less than 224 x 224\n",
        "Initially could not convert the images to 224x224. Judging the optimal resize dimension of images."
      ]
    },
    {
      "cell_type": "code",
      "metadata": {
        "colab": {
          "base_uri": "https://localhost:8080/"
        },
        "id": "cB0MnSBGFZxz",
        "outputId": "fd639c76-8c5a-424a-befe-eb3750dcdccf"
      },
      "source": [
        "data_path = '/content/drive/My Drive/Datasets/WeatherDataset'\n",
        "data_dir_list = os.listdir(data_path)\n",
        "for dataset in data_dir_list:\n",
        "    img_list=os.listdir(data_path+'/'+ dataset)\n",
        "    print ('Loaded the images of dataset-'+'{}\\n'.format(dataset))\n",
        "    for img in img_list:\n",
        "        #input_img=cv2.imread(data_path + '/'+ dataset + '/'+ img)\n",
        "        filename = os.path.join(data_path + '/'+ dataset + '/'+ img)\n",
        "        image_jpg = Image.open(filename)\n",
        "        if (image_jpg.size[0] or image_jpg.size[1])<224 :\n",
        "          print (img, image_jpg.size)"
      ],
      "execution_count": null,
      "outputs": [
        {
          "output_type": "stream",
          "text": [
            "Loaded the images of dataset-Cloudy\n",
            "\n",
            "cloudy40.jpg (183, 275)\n",
            "cloudy46.jpg (194, 259)\n",
            "cloudy76.jpg (183, 275)\n",
            "cloudy121.jpg (211, 239)\n",
            "cloudy139.jpg (183, 275)\n",
            "cloudy167.jpg (222, 167)\n",
            "cloudy169.jpg (206, 155)\n",
            "cloudy164.jpg (205, 300)\n",
            "cloudy171.jpg (220, 165)\n",
            "cloudy212.jpg (223, 168)\n",
            "cloudy192.jpg (211, 159)\n",
            "cloudy213.jpg (205, 154)\n",
            "cloudy219.jpg (201, 151)\n",
            "cloudy176.jpg (207, 156)\n",
            "cloudy177.jpg (199, 151)\n",
            "cloudy225.jpg (208, 167)\n",
            "cloudy216.jpg (203, 153)\n",
            "cloudy214.jpg (201, 151)\n",
            "cloudy187.jpg (208, 167)\n",
            "cloudy259.jpg (211, 159)\n",
            "cloudy262.jpg (206, 155)\n",
            "cloudy271.jpg (205, 154)\n",
            "cloudy269.jpg (201, 151)\n",
            "cloudy251.jpg (205, 154)\n",
            "cloudy261.jpg (206, 152)\n",
            "cloudy263.jpg (203, 163)\n",
            "cloudy246.jpg (223, 168)\n",
            "cloudy275.jpg (213, 160)\n",
            "cloudy281.jpg (209, 155)\n",
            "cloudy277.jpg (201, 151)\n",
            "cloudy288.jpg (219, 151)\n",
            "cloudy274.jpg (221, 166)\n",
            "Loaded the images of dataset-Sunrise\n",
            "\n",
            "sunrise126.jpg (190, 265)\n",
            "sunrise132.jpg (194, 259)\n",
            "sunrise166.jpg (212, 238)\n",
            "sunrise230.jpg (214, 176)\n",
            "sunrise235.jpg (220, 165)\n",
            "sunrise276.jpg (208, 167)\n",
            "sunrise278.jpg (200, 157)\n",
            "sunrise250.jpg (220, 165)\n",
            "sunrise267.jpg (211, 159)\n",
            "sunrise261.jpg (215, 162)\n",
            "sunrise277.jpg (221, 282)\n",
            "sunrise286.jpg (204, 153)\n",
            "sunrise316.jpg (215, 162)\n",
            "sunrise315.jpg (212, 159)\n",
            "sunrise221.jpg (213, 320)\n",
            "sunrise313.jpg (216, 162)\n",
            "sunrise299.jpg (201, 161)\n",
            "sunrise321.jpg (204, 153)\n",
            "sunrise331.jpg (212, 159)\n",
            "sunrise330.jpg (202, 152)\n",
            "sunrise332.jpg (213, 160)\n",
            "sunrise352.jpg (207, 156)\n",
            "sunrise354.jpg (203, 153)\n",
            "Loaded the images of dataset-Shine\n",
            "\n",
            "shine10.jpg (168, 300)\n",
            "shine11.jpg (183, 275)\n",
            "shine27.jpg (183, 275)\n",
            "shine32.jpg (189, 267)\n",
            "shine42.jpg (183, 275)\n",
            "shine124.jpg (180, 140)\n",
            "shine160.jpg (180, 178)\n",
            "shine165.jpg (209, 169)\n",
            "shine177.jpg (199, 155)\n",
            "shine169.jpg (223, 165)\n",
            "shine172.jpg (184, 183)\n",
            "shine190.jpg (198, 159)\n",
            "shine186.jpg (158, 153)\n",
            "shine185.jpg (221, 166)\n",
            "shine192.jpg (168, 162)\n",
            "shine214.jpg (206, 155)\n",
            "shine220.jpg (219, 180)\n",
            "shine209.jpg (200, 300)\n",
            "shine212.jpg (220, 165)\n",
            "shine248.jpg (221, 166)\n",
            "shine237.jpg (220, 165)\n",
            "shine229.jpg (221, 166)\n",
            "shine247.jpg (204, 153)\n",
            "shine233.jpg (221, 166)\n",
            "shine239.jpg (211, 172)\n",
            "Loaded the images of dataset-Rain\n",
            "\n",
            "rain102.jpg (183, 275)\n",
            "rain121.jpg (183, 275)\n",
            "rain145.jpg (188, 194)\n",
            "rain156.jpg (185, 273)\n"
          ],
          "name": "stdout"
        }
      ]
    },
    {
      "cell_type": "markdown",
      "metadata": {
        "id": "VoEdu1R7q3Lo"
      },
      "source": [
        "## Loading , Resizing (128x128) and Labeling Images\n",
        "optimal size for Resized image is 128x128"
      ]
    },
    {
      "cell_type": "code",
      "metadata": {
        "colab": {
          "base_uri": "https://localhost:8080/"
        },
        "id": "i4Mow3pILeug",
        "outputId": "88c4b49d-491a-4133-f9c6-2fb7c90cf57b"
      },
      "source": [
        "# Define data path\n",
        "data_path = '/content/drive/My Drive/Datasets/WeatherDataset'\n",
        "data_dir_list = os.listdir(data_path)\n",
        "img_rows=128\n",
        "img_cols=128\n",
        "num_channel=3\n",
        "num_epoch=100\n",
        "no_images=0\n",
        "\n",
        "for dataset in data_dir_list:\n",
        "    img_list = os.listdir(data_path + '/' + dataset)\n",
        "    no_images = no_images+len(img_list)\n",
        "print(no_images)\n",
        "# Define the number of classes\n",
        "labels = np.ones((no_images,),dtype='int64')\n",
        "num_classes = 4\n",
        "label_index=0\n",
        "img_data_list=[]\n",
        "img=0\n",
        "\n",
        "for dataset in data_dir_list:\n",
        "    img_list=os.listdir(data_path+'/'+ dataset)\n",
        "    print ('Loaded the images of dataset-'+'{}\\n'.format(dataset))\n",
        "    for img in img_list:\n",
        "        input_img=cv2.imread(data_path + '/'+ dataset + '/'+ img)\n",
        "        #input_img=cv2.cvtColor(input_img, cv2.COLOR_BGR2GRAY)\n",
        "        input_img_resize=cv2.resize(input_img,(128,128))\n",
        "        #print(img,input_img.size)\n",
        "        img_data_list.append(input_img_resize)\n",
        "        if dataset[0:3]==  'Clo':\n",
        "            labels[label_index]=  0\n",
        "            #print(dataset[0])\n",
        "        if dataset[0:3] == 'Rai':\n",
        "            labels[label_index] = 1\n",
        "            #print(dataset[0])\n",
        "        if dataset[0:3] == 'Shi':\n",
        "            labels[label_index] = 2\n",
        "            #print(dataset[0])\n",
        "        if dataset[0:3]==  'Sun':\n",
        "            labels[label_index]=  3\n",
        "            #print(dataset[0])\n",
        "        label_index = label_index+1"
      ],
      "execution_count": null,
      "outputs": [
        {
          "output_type": "stream",
          "text": [
            "1123\n",
            "Loaded the images of dataset-Cloudy\n",
            "\n",
            "Loaded the images of dataset-Sunrise\n",
            "\n",
            "Loaded the images of dataset-Shine\n",
            "\n",
            "Loaded the images of dataset-Rain\n",
            "\n"
          ],
          "name": "stdout"
        }
      ]
    },
    {
      "cell_type": "markdown",
      "metadata": {
        "id": "Fq_m0Zmg6WcC"
      },
      "source": [
        "### Normalizing the images between 0 and 1 by dividing it with 255"
      ]
    },
    {
      "cell_type": "code",
      "metadata": {
        "colab": {
          "base_uri": "https://localhost:8080/"
        },
        "id": "lLig4lojNSrI",
        "outputId": "774011d7-aadd-46cd-c9dd-efc479c87553"
      },
      "source": [
        "img_data = np.array(img_data_list)\n",
        "img_data = img_data.astype('float32')\n",
        "img_data /= 255\n",
        "print (img_data.shape)"
      ],
      "execution_count": null,
      "outputs": [
        {
          "output_type": "stream",
          "text": [
            "(1123, 128, 128, 3)\n"
          ],
          "name": "stdout"
        }
      ]
    },
    {
      "cell_type": "markdown",
      "metadata": {
        "id": "ZnUqk2ap6o_3"
      },
      "source": [
        "### Chaning the Image dimension ordering to row X height X num_channels and Labeling each image from class 0 to 3"
      ]
    },
    {
      "cell_type": "code",
      "metadata": {
        "colab": {
          "base_uri": "https://localhost:8080/"
        },
        "id": "JHyyLpHDNXOh",
        "outputId": "50382d38-09e0-42cf-d969-9729a30a3552"
      },
      "source": [
        "# Using 'th' for the image_dim_ordering we get accuracy >=0.99 .\n",
        "# Using 'tf' for the dim order I get accuracy >= 0.9 but on more epochs\n",
        "\n",
        "if num_channel==1:\n",
        "    if K.image_data_format()=='th':\n",
        "        img_data= np.expand_dims(img_data, axis=1)\n",
        "        print (img_data.shape)\n",
        "    else:\n",
        "        img_data= np.expand_dims(img_data, axis=3)\n",
        "        print (img_data.shape)\n",
        "\n",
        "else:\n",
        "    if K.image_data_format()=='th':\n",
        "        img_data=np.rollaxis(img_data,3,1)\n",
        "        print (img_data.shape)\n",
        "        labels[0:299] = 0\n",
        "        labels[300:513] = 1\n",
        "        labels[514:766] = 2\n",
        "        labels[767:1122] = 3\n",
        "\n",
        "labels[0:1000]"
      ],
      "execution_count": null,
      "outputs": [
        {
          "output_type": "execute_result",
          "data": {
            "text/plain": [
              "array([0, 0, 0, 0, 0, 0, 0, 0, 0, 0, 0, 0, 0, 0, 0, 0, 0, 0, 0, 0, 0, 0,\n",
              "       0, 0, 0, 0, 0, 0, 0, 0, 0, 0, 0, 0, 0, 0, 0, 0, 0, 0, 0, 0, 0, 0,\n",
              "       0, 0, 0, 0, 0, 0, 0, 0, 0, 0, 0, 0, 0, 0, 0, 0, 0, 0, 0, 0, 0, 0,\n",
              "       0, 0, 0, 0, 0, 0, 0, 0, 0, 0, 0, 0, 0, 0, 0, 0, 0, 0, 0, 0, 0, 0,\n",
              "       0, 0, 0, 0, 0, 0, 0, 0, 0, 0, 0, 0, 0, 0, 0, 0, 0, 0, 0, 0, 0, 0,\n",
              "       0, 0, 0, 0, 0, 0, 0, 0, 0, 0, 0, 0, 0, 0, 0, 0, 0, 0, 0, 0, 0, 0,\n",
              "       0, 0, 0, 0, 0, 0, 0, 0, 0, 0, 0, 0, 0, 0, 0, 0, 0, 0, 0, 0, 0, 0,\n",
              "       0, 0, 0, 0, 0, 0, 0, 0, 0, 0, 0, 0, 0, 0, 0, 0, 0, 0, 0, 0, 0, 0,\n",
              "       0, 0, 0, 0, 0, 0, 0, 0, 0, 0, 0, 0, 0, 0, 0, 0, 0, 0, 0, 0, 0, 0,\n",
              "       0, 0, 0, 0, 0, 0, 0, 0, 0, 0, 0, 0, 0, 0, 0, 0, 0, 0, 0, 0, 0, 0,\n",
              "       0, 0, 0, 0, 0, 0, 0, 0, 0, 0, 0, 0, 0, 0, 0, 0, 0, 0, 0, 0, 0, 0,\n",
              "       0, 0, 0, 0, 0, 0, 0, 0, 0, 0, 0, 0, 0, 0, 0, 0, 0, 0, 0, 0, 0, 0,\n",
              "       0, 0, 0, 0, 0, 0, 0, 0, 0, 0, 0, 0, 0, 0, 0, 0, 0, 0, 0, 0, 0, 0,\n",
              "       0, 0, 0, 0, 0, 0, 0, 0, 0, 0, 0, 0, 0, 0, 3, 3, 3, 3, 3, 3, 3, 3,\n",
              "       3, 3, 3, 3, 3, 3, 3, 3, 3, 3, 3, 3, 3, 3, 3, 3, 3, 3, 3, 3, 3, 3,\n",
              "       3, 3, 3, 3, 3, 3, 3, 3, 3, 3, 3, 3, 3, 3, 3, 3, 3, 3, 3, 3, 3, 3,\n",
              "       3, 3, 3, 3, 3, 3, 3, 3, 3, 3, 3, 3, 3, 3, 3, 3, 3, 3, 3, 3, 3, 3,\n",
              "       3, 3, 3, 3, 3, 3, 3, 3, 3, 3, 3, 3, 3, 3, 3, 3, 3, 3, 3, 3, 3, 3,\n",
              "       3, 3, 3, 3, 3, 3, 3, 3, 3, 3, 3, 3, 3, 3, 3, 3, 3, 3, 3, 3, 3, 3,\n",
              "       3, 3, 3, 3, 3, 3, 3, 3, 3, 3, 3, 3, 3, 3, 3, 3, 3, 3, 3, 3, 3, 3,\n",
              "       3, 3, 3, 3, 3, 3, 3, 3, 3, 3, 3, 3, 3, 3, 3, 3, 3, 3, 3, 3, 3, 3,\n",
              "       3, 3, 3, 3, 3, 3, 3, 3, 3, 3, 3, 3, 3, 3, 3, 3, 3, 3, 3, 3, 3, 3,\n",
              "       3, 3, 3, 3, 3, 3, 3, 3, 3, 3, 3, 3, 3, 3, 3, 3, 3, 3, 3, 3, 3, 3,\n",
              "       3, 3, 3, 3, 3, 3, 3, 3, 3, 3, 3, 3, 3, 3, 3, 3, 3, 3, 3, 3, 3, 3,\n",
              "       3, 3, 3, 3, 3, 3, 3, 3, 3, 3, 3, 3, 3, 3, 3, 3, 3, 3, 3, 3, 3, 3,\n",
              "       3, 3, 3, 3, 3, 3, 3, 3, 3, 3, 3, 3, 3, 3, 3, 3, 3, 3, 3, 3, 3, 3,\n",
              "       3, 3, 3, 3, 3, 3, 3, 3, 3, 3, 3, 3, 3, 3, 3, 3, 3, 3, 3, 3, 3, 3,\n",
              "       3, 3, 3, 3, 3, 3, 3, 3, 3, 3, 3, 3, 3, 3, 3, 3, 3, 3, 3, 3, 3, 3,\n",
              "       3, 3, 3, 3, 3, 3, 3, 3, 3, 3, 3, 3, 3, 3, 3, 3, 3, 3, 3, 3, 3, 3,\n",
              "       3, 3, 3, 3, 3, 3, 3, 3, 3, 3, 3, 3, 3, 3, 3, 3, 3, 3, 3, 2, 2, 2,\n",
              "       2, 2, 2, 2, 2, 2, 2, 2, 2, 2, 2, 2, 2, 2, 2, 2, 2, 2, 2, 2, 2, 2,\n",
              "       2, 2, 2, 2, 2, 2, 2, 2, 2, 2, 2, 2, 2, 2, 2, 2, 2, 2, 2, 2, 2, 2,\n",
              "       2, 2, 2, 2, 2, 2, 2, 2, 2, 2, 2, 2, 2, 2, 2, 2, 2, 2, 2, 2, 2, 2,\n",
              "       2, 2, 2, 2, 2, 2, 2, 2, 2, 2, 2, 2, 2, 2, 2, 2, 2, 2, 2, 2, 2, 2,\n",
              "       2, 2, 2, 2, 2, 2, 2, 2, 2, 2, 2, 2, 2, 2, 2, 2, 2, 2, 2, 2, 2, 2,\n",
              "       2, 2, 2, 2, 2, 2, 2, 2, 2, 2, 2, 2, 2, 2, 2, 2, 2, 2, 2, 2, 2, 2,\n",
              "       2, 2, 2, 2, 2, 2, 2, 2, 2, 2, 2, 2, 2, 2, 2, 2, 2, 2, 2, 2, 2, 2,\n",
              "       2, 2, 2, 2, 2, 2, 2, 2, 2, 2, 2, 2, 2, 2, 2, 2, 2, 2, 2, 2, 2, 2,\n",
              "       2, 2, 2, 2, 2, 2, 2, 2, 2, 2, 2, 2, 2, 2, 2, 2, 2, 2, 2, 2, 2, 2,\n",
              "       2, 2, 2, 2, 2, 2, 2, 2, 2, 2, 2, 2, 2, 2, 2, 2, 2, 2, 2, 2, 2, 2,\n",
              "       2, 2, 2, 2, 2, 2, 2, 2, 2, 2, 2, 2, 2, 2, 2, 2, 2, 2, 2, 2, 2, 2,\n",
              "       2, 2, 2, 2, 2, 2, 2, 1, 1, 1, 1, 1, 1, 1, 1, 1, 1, 1, 1, 1, 1, 1,\n",
              "       1, 1, 1, 1, 1, 1, 1, 1, 1, 1, 1, 1, 1, 1, 1, 1, 1, 1, 1, 1, 1, 1,\n",
              "       1, 1, 1, 1, 1, 1, 1, 1, 1, 1, 1, 1, 1, 1, 1, 1, 1, 1, 1, 1, 1, 1,\n",
              "       1, 1, 1, 1, 1, 1, 1, 1, 1, 1, 1, 1, 1, 1, 1, 1, 1, 1, 1, 1, 1, 1,\n",
              "       1, 1, 1, 1, 1, 1, 1, 1, 1, 1])"
            ]
          },
          "metadata": {
            "tags": []
          },
          "execution_count": 8
        }
      ]
    },
    {
      "cell_type": "markdown",
      "metadata": {
        "id": "M9UpiCAS7as7"
      },
      "source": [
        "## Train / Test Split data with 70/30 ratio"
      ]
    },
    {
      "cell_type": "code",
      "metadata": {
        "colab": {
          "base_uri": "https://localhost:8080/"
        },
        "id": "dUxTqwjNPfHh",
        "outputId": "1aef8c7b-39b7-4571-fb4c-f3c66a94ab8f"
      },
      "source": [
        "# Define the number of classes\n",
        "num_classes = 4\n",
        "names = ['Cloudy','Rain','Shine','Sunrise']\n",
        "# convert class labels to on-hot encoding\n",
        "Y = np_utils.to_categorical(labels, num_classes)\n",
        "#Shuffle the dataset with random state=2\n",
        "x,y = shuffle(img_data, Y, random_state=2)\n",
        "# Split the dataset with 30% testing data\n",
        "X_train, X_test, y_train, y_test = train_test_split(x, y, test_size=0.3, random_state=42)\n",
        "print(\"X_train size is {} and y_train size is {}\".format(X_train.shape,y_train.shape))\n",
        "print(\"X_test size is {} and y_test size is {}\".format(X_test.shape,y_test.shape))"
      ],
      "execution_count": null,
      "outputs": [
        {
          "output_type": "stream",
          "text": [
            "X_train size is (786, 128, 128, 3) and y_train size is (786, 4)\n",
            "X_test size is (337, 128, 128, 3) and y_test size is (337, 4)\n"
          ],
          "name": "stdout"
        }
      ]
    },
    {
      "cell_type": "markdown",
      "metadata": {
        "id": "sf3dWawhYGwo"
      },
      "source": [
        "## MobileNetV2 Model trained with imagenet weights"
      ]
    },
    {
      "cell_type": "code",
      "metadata": {
        "colab": {
          "base_uri": "https://localhost:8080/"
        },
        "id": "7Cwln5XsSUmV",
        "outputId": "64110694-5e7b-4081-c671-c0dfb0cf0788"
      },
      "source": [
        "from keras.applications import MobileNetV2\n",
        "from keras.models import Model\n",
        "mnetv2 = MobileNetV2(include_top=False,weights='imagenet',input_shape=(128,128,3))\n",
        "output = mnetv2.layers[-1].output\n",
        "output = keras.layers.Flatten()(output)\n",
        "\n",
        "mnetv2_model = Model(mnetv2.input, output)\n",
        "mnetv2_model.trainable = False\n",
        "\n",
        "for layer in mnetv2_model.layers:\n",
        "  layer.trainable = False\n",
        "\n",
        "mnetv2_model.summary()"
      ],
      "execution_count": null,
      "outputs": [
        {
          "output_type": "stream",
          "text": [
            "Model: \"model\"\n",
            "__________________________________________________________________________________________________\n",
            "Layer (type)                    Output Shape         Param #     Connected to                     \n",
            "==================================================================================================\n",
            "input_1 (InputLayer)            [(None, 128, 128, 3) 0                                            \n",
            "__________________________________________________________________________________________________\n",
            "Conv1 (Conv2D)                  (None, 64, 64, 32)   864         input_1[0][0]                    \n",
            "__________________________________________________________________________________________________\n",
            "bn_Conv1 (BatchNormalization)   (None, 64, 64, 32)   128         Conv1[0][0]                      \n",
            "__________________________________________________________________________________________________\n",
            "Conv1_relu (ReLU)               (None, 64, 64, 32)   0           bn_Conv1[0][0]                   \n",
            "__________________________________________________________________________________________________\n",
            "expanded_conv_depthwise (Depthw (None, 64, 64, 32)   288         Conv1_relu[0][0]                 \n",
            "__________________________________________________________________________________________________\n",
            "expanded_conv_depthwise_BN (Bat (None, 64, 64, 32)   128         expanded_conv_depthwise[0][0]    \n",
            "__________________________________________________________________________________________________\n",
            "expanded_conv_depthwise_relu (R (None, 64, 64, 32)   0           expanded_conv_depthwise_BN[0][0] \n",
            "__________________________________________________________________________________________________\n",
            "expanded_conv_project (Conv2D)  (None, 64, 64, 16)   512         expanded_conv_depthwise_relu[0][0\n",
            "__________________________________________________________________________________________________\n",
            "expanded_conv_project_BN (Batch (None, 64, 64, 16)   64          expanded_conv_project[0][0]      \n",
            "__________________________________________________________________________________________________\n",
            "block_1_expand (Conv2D)         (None, 64, 64, 96)   1536        expanded_conv_project_BN[0][0]   \n",
            "__________________________________________________________________________________________________\n",
            "block_1_expand_BN (BatchNormali (None, 64, 64, 96)   384         block_1_expand[0][0]             \n",
            "__________________________________________________________________________________________________\n",
            "block_1_expand_relu (ReLU)      (None, 64, 64, 96)   0           block_1_expand_BN[0][0]          \n",
            "__________________________________________________________________________________________________\n",
            "block_1_pad (ZeroPadding2D)     (None, 65, 65, 96)   0           block_1_expand_relu[0][0]        \n",
            "__________________________________________________________________________________________________\n",
            "block_1_depthwise (DepthwiseCon (None, 32, 32, 96)   864         block_1_pad[0][0]                \n",
            "__________________________________________________________________________________________________\n",
            "block_1_depthwise_BN (BatchNorm (None, 32, 32, 96)   384         block_1_depthwise[0][0]          \n",
            "__________________________________________________________________________________________________\n",
            "block_1_depthwise_relu (ReLU)   (None, 32, 32, 96)   0           block_1_depthwise_BN[0][0]       \n",
            "__________________________________________________________________________________________________\n",
            "block_1_project (Conv2D)        (None, 32, 32, 24)   2304        block_1_depthwise_relu[0][0]     \n",
            "__________________________________________________________________________________________________\n",
            "block_1_project_BN (BatchNormal (None, 32, 32, 24)   96          block_1_project[0][0]            \n",
            "__________________________________________________________________________________________________\n",
            "block_2_expand (Conv2D)         (None, 32, 32, 144)  3456        block_1_project_BN[0][0]         \n",
            "__________________________________________________________________________________________________\n",
            "block_2_expand_BN (BatchNormali (None, 32, 32, 144)  576         block_2_expand[0][0]             \n",
            "__________________________________________________________________________________________________\n",
            "block_2_expand_relu (ReLU)      (None, 32, 32, 144)  0           block_2_expand_BN[0][0]          \n",
            "__________________________________________________________________________________________________\n",
            "block_2_depthwise (DepthwiseCon (None, 32, 32, 144)  1296        block_2_expand_relu[0][0]        \n",
            "__________________________________________________________________________________________________\n",
            "block_2_depthwise_BN (BatchNorm (None, 32, 32, 144)  576         block_2_depthwise[0][0]          \n",
            "__________________________________________________________________________________________________\n",
            "block_2_depthwise_relu (ReLU)   (None, 32, 32, 144)  0           block_2_depthwise_BN[0][0]       \n",
            "__________________________________________________________________________________________________\n",
            "block_2_project (Conv2D)        (None, 32, 32, 24)   3456        block_2_depthwise_relu[0][0]     \n",
            "__________________________________________________________________________________________________\n",
            "block_2_project_BN (BatchNormal (None, 32, 32, 24)   96          block_2_project[0][0]            \n",
            "__________________________________________________________________________________________________\n",
            "block_2_add (Add)               (None, 32, 32, 24)   0           block_1_project_BN[0][0]         \n",
            "                                                                 block_2_project_BN[0][0]         \n",
            "__________________________________________________________________________________________________\n",
            "block_3_expand (Conv2D)         (None, 32, 32, 144)  3456        block_2_add[0][0]                \n",
            "__________________________________________________________________________________________________\n",
            "block_3_expand_BN (BatchNormali (None, 32, 32, 144)  576         block_3_expand[0][0]             \n",
            "__________________________________________________________________________________________________\n",
            "block_3_expand_relu (ReLU)      (None, 32, 32, 144)  0           block_3_expand_BN[0][0]          \n",
            "__________________________________________________________________________________________________\n",
            "block_3_pad (ZeroPadding2D)     (None, 33, 33, 144)  0           block_3_expand_relu[0][0]        \n",
            "__________________________________________________________________________________________________\n",
            "block_3_depthwise (DepthwiseCon (None, 16, 16, 144)  1296        block_3_pad[0][0]                \n",
            "__________________________________________________________________________________________________\n",
            "block_3_depthwise_BN (BatchNorm (None, 16, 16, 144)  576         block_3_depthwise[0][0]          \n",
            "__________________________________________________________________________________________________\n",
            "block_3_depthwise_relu (ReLU)   (None, 16, 16, 144)  0           block_3_depthwise_BN[0][0]       \n",
            "__________________________________________________________________________________________________\n",
            "block_3_project (Conv2D)        (None, 16, 16, 32)   4608        block_3_depthwise_relu[0][0]     \n",
            "__________________________________________________________________________________________________\n",
            "block_3_project_BN (BatchNormal (None, 16, 16, 32)   128         block_3_project[0][0]            \n",
            "__________________________________________________________________________________________________\n",
            "block_4_expand (Conv2D)         (None, 16, 16, 192)  6144        block_3_project_BN[0][0]         \n",
            "__________________________________________________________________________________________________\n",
            "block_4_expand_BN (BatchNormali (None, 16, 16, 192)  768         block_4_expand[0][0]             \n",
            "__________________________________________________________________________________________________\n",
            "block_4_expand_relu (ReLU)      (None, 16, 16, 192)  0           block_4_expand_BN[0][0]          \n",
            "__________________________________________________________________________________________________\n",
            "block_4_depthwise (DepthwiseCon (None, 16, 16, 192)  1728        block_4_expand_relu[0][0]        \n",
            "__________________________________________________________________________________________________\n",
            "block_4_depthwise_BN (BatchNorm (None, 16, 16, 192)  768         block_4_depthwise[0][0]          \n",
            "__________________________________________________________________________________________________\n",
            "block_4_depthwise_relu (ReLU)   (None, 16, 16, 192)  0           block_4_depthwise_BN[0][0]       \n",
            "__________________________________________________________________________________________________\n",
            "block_4_project (Conv2D)        (None, 16, 16, 32)   6144        block_4_depthwise_relu[0][0]     \n",
            "__________________________________________________________________________________________________\n",
            "block_4_project_BN (BatchNormal (None, 16, 16, 32)   128         block_4_project[0][0]            \n",
            "__________________________________________________________________________________________________\n",
            "block_4_add (Add)               (None, 16, 16, 32)   0           block_3_project_BN[0][0]         \n",
            "                                                                 block_4_project_BN[0][0]         \n",
            "__________________________________________________________________________________________________\n",
            "block_5_expand (Conv2D)         (None, 16, 16, 192)  6144        block_4_add[0][0]                \n",
            "__________________________________________________________________________________________________\n",
            "block_5_expand_BN (BatchNormali (None, 16, 16, 192)  768         block_5_expand[0][0]             \n",
            "__________________________________________________________________________________________________\n",
            "block_5_expand_relu (ReLU)      (None, 16, 16, 192)  0           block_5_expand_BN[0][0]          \n",
            "__________________________________________________________________________________________________\n",
            "block_5_depthwise (DepthwiseCon (None, 16, 16, 192)  1728        block_5_expand_relu[0][0]        \n",
            "__________________________________________________________________________________________________\n",
            "block_5_depthwise_BN (BatchNorm (None, 16, 16, 192)  768         block_5_depthwise[0][0]          \n",
            "__________________________________________________________________________________________________\n",
            "block_5_depthwise_relu (ReLU)   (None, 16, 16, 192)  0           block_5_depthwise_BN[0][0]       \n",
            "__________________________________________________________________________________________________\n",
            "block_5_project (Conv2D)        (None, 16, 16, 32)   6144        block_5_depthwise_relu[0][0]     \n",
            "__________________________________________________________________________________________________\n",
            "block_5_project_BN (BatchNormal (None, 16, 16, 32)   128         block_5_project[0][0]            \n",
            "__________________________________________________________________________________________________\n",
            "block_5_add (Add)               (None, 16, 16, 32)   0           block_4_add[0][0]                \n",
            "                                                                 block_5_project_BN[0][0]         \n",
            "__________________________________________________________________________________________________\n",
            "block_6_expand (Conv2D)         (None, 16, 16, 192)  6144        block_5_add[0][0]                \n",
            "__________________________________________________________________________________________________\n",
            "block_6_expand_BN (BatchNormali (None, 16, 16, 192)  768         block_6_expand[0][0]             \n",
            "__________________________________________________________________________________________________\n",
            "block_6_expand_relu (ReLU)      (None, 16, 16, 192)  0           block_6_expand_BN[0][0]          \n",
            "__________________________________________________________________________________________________\n",
            "block_6_pad (ZeroPadding2D)     (None, 17, 17, 192)  0           block_6_expand_relu[0][0]        \n",
            "__________________________________________________________________________________________________\n",
            "block_6_depthwise (DepthwiseCon (None, 8, 8, 192)    1728        block_6_pad[0][0]                \n",
            "__________________________________________________________________________________________________\n",
            "block_6_depthwise_BN (BatchNorm (None, 8, 8, 192)    768         block_6_depthwise[0][0]          \n",
            "__________________________________________________________________________________________________\n",
            "block_6_depthwise_relu (ReLU)   (None, 8, 8, 192)    0           block_6_depthwise_BN[0][0]       \n",
            "__________________________________________________________________________________________________\n",
            "block_6_project (Conv2D)        (None, 8, 8, 64)     12288       block_6_depthwise_relu[0][0]     \n",
            "__________________________________________________________________________________________________\n",
            "block_6_project_BN (BatchNormal (None, 8, 8, 64)     256         block_6_project[0][0]            \n",
            "__________________________________________________________________________________________________\n",
            "block_7_expand (Conv2D)         (None, 8, 8, 384)    24576       block_6_project_BN[0][0]         \n",
            "__________________________________________________________________________________________________\n",
            "block_7_expand_BN (BatchNormali (None, 8, 8, 384)    1536        block_7_expand[0][0]             \n",
            "__________________________________________________________________________________________________\n",
            "block_7_expand_relu (ReLU)      (None, 8, 8, 384)    0           block_7_expand_BN[0][0]          \n",
            "__________________________________________________________________________________________________\n",
            "block_7_depthwise (DepthwiseCon (None, 8, 8, 384)    3456        block_7_expand_relu[0][0]        \n",
            "__________________________________________________________________________________________________\n",
            "block_7_depthwise_BN (BatchNorm (None, 8, 8, 384)    1536        block_7_depthwise[0][0]          \n",
            "__________________________________________________________________________________________________\n",
            "block_7_depthwise_relu (ReLU)   (None, 8, 8, 384)    0           block_7_depthwise_BN[0][0]       \n",
            "__________________________________________________________________________________________________\n",
            "block_7_project (Conv2D)        (None, 8, 8, 64)     24576       block_7_depthwise_relu[0][0]     \n",
            "__________________________________________________________________________________________________\n",
            "block_7_project_BN (BatchNormal (None, 8, 8, 64)     256         block_7_project[0][0]            \n",
            "__________________________________________________________________________________________________\n",
            "block_7_add (Add)               (None, 8, 8, 64)     0           block_6_project_BN[0][0]         \n",
            "                                                                 block_7_project_BN[0][0]         \n",
            "__________________________________________________________________________________________________\n",
            "block_8_expand (Conv2D)         (None, 8, 8, 384)    24576       block_7_add[0][0]                \n",
            "__________________________________________________________________________________________________\n",
            "block_8_expand_BN (BatchNormali (None, 8, 8, 384)    1536        block_8_expand[0][0]             \n",
            "__________________________________________________________________________________________________\n",
            "block_8_expand_relu (ReLU)      (None, 8, 8, 384)    0           block_8_expand_BN[0][0]          \n",
            "__________________________________________________________________________________________________\n",
            "block_8_depthwise (DepthwiseCon (None, 8, 8, 384)    3456        block_8_expand_relu[0][0]        \n",
            "__________________________________________________________________________________________________\n",
            "block_8_depthwise_BN (BatchNorm (None, 8, 8, 384)    1536        block_8_depthwise[0][0]          \n",
            "__________________________________________________________________________________________________\n",
            "block_8_depthwise_relu (ReLU)   (None, 8, 8, 384)    0           block_8_depthwise_BN[0][0]       \n",
            "__________________________________________________________________________________________________\n",
            "block_8_project (Conv2D)        (None, 8, 8, 64)     24576       block_8_depthwise_relu[0][0]     \n",
            "__________________________________________________________________________________________________\n",
            "block_8_project_BN (BatchNormal (None, 8, 8, 64)     256         block_8_project[0][0]            \n",
            "__________________________________________________________________________________________________\n",
            "block_8_add (Add)               (None, 8, 8, 64)     0           block_7_add[0][0]                \n",
            "                                                                 block_8_project_BN[0][0]         \n",
            "__________________________________________________________________________________________________\n",
            "block_9_expand (Conv2D)         (None, 8, 8, 384)    24576       block_8_add[0][0]                \n",
            "__________________________________________________________________________________________________\n",
            "block_9_expand_BN (BatchNormali (None, 8, 8, 384)    1536        block_9_expand[0][0]             \n",
            "__________________________________________________________________________________________________\n",
            "block_9_expand_relu (ReLU)      (None, 8, 8, 384)    0           block_9_expand_BN[0][0]          \n",
            "__________________________________________________________________________________________________\n",
            "block_9_depthwise (DepthwiseCon (None, 8, 8, 384)    3456        block_9_expand_relu[0][0]        \n",
            "__________________________________________________________________________________________________\n",
            "block_9_depthwise_BN (BatchNorm (None, 8, 8, 384)    1536        block_9_depthwise[0][0]          \n",
            "__________________________________________________________________________________________________\n",
            "block_9_depthwise_relu (ReLU)   (None, 8, 8, 384)    0           block_9_depthwise_BN[0][0]       \n",
            "__________________________________________________________________________________________________\n",
            "block_9_project (Conv2D)        (None, 8, 8, 64)     24576       block_9_depthwise_relu[0][0]     \n",
            "__________________________________________________________________________________________________\n",
            "block_9_project_BN (BatchNormal (None, 8, 8, 64)     256         block_9_project[0][0]            \n",
            "__________________________________________________________________________________________________\n",
            "block_9_add (Add)               (None, 8, 8, 64)     0           block_8_add[0][0]                \n",
            "                                                                 block_9_project_BN[0][0]         \n",
            "__________________________________________________________________________________________________\n",
            "block_10_expand (Conv2D)        (None, 8, 8, 384)    24576       block_9_add[0][0]                \n",
            "__________________________________________________________________________________________________\n",
            "block_10_expand_BN (BatchNormal (None, 8, 8, 384)    1536        block_10_expand[0][0]            \n",
            "__________________________________________________________________________________________________\n",
            "block_10_expand_relu (ReLU)     (None, 8, 8, 384)    0           block_10_expand_BN[0][0]         \n",
            "__________________________________________________________________________________________________\n",
            "block_10_depthwise (DepthwiseCo (None, 8, 8, 384)    3456        block_10_expand_relu[0][0]       \n",
            "__________________________________________________________________________________________________\n",
            "block_10_depthwise_BN (BatchNor (None, 8, 8, 384)    1536        block_10_depthwise[0][0]         \n",
            "__________________________________________________________________________________________________\n",
            "block_10_depthwise_relu (ReLU)  (None, 8, 8, 384)    0           block_10_depthwise_BN[0][0]      \n",
            "__________________________________________________________________________________________________\n",
            "block_10_project (Conv2D)       (None, 8, 8, 96)     36864       block_10_depthwise_relu[0][0]    \n",
            "__________________________________________________________________________________________________\n",
            "block_10_project_BN (BatchNorma (None, 8, 8, 96)     384         block_10_project[0][0]           \n",
            "__________________________________________________________________________________________________\n",
            "block_11_expand (Conv2D)        (None, 8, 8, 576)    55296       block_10_project_BN[0][0]        \n",
            "__________________________________________________________________________________________________\n",
            "block_11_expand_BN (BatchNormal (None, 8, 8, 576)    2304        block_11_expand[0][0]            \n",
            "__________________________________________________________________________________________________\n",
            "block_11_expand_relu (ReLU)     (None, 8, 8, 576)    0           block_11_expand_BN[0][0]         \n",
            "__________________________________________________________________________________________________\n",
            "block_11_depthwise (DepthwiseCo (None, 8, 8, 576)    5184        block_11_expand_relu[0][0]       \n",
            "__________________________________________________________________________________________________\n",
            "block_11_depthwise_BN (BatchNor (None, 8, 8, 576)    2304        block_11_depthwise[0][0]         \n",
            "__________________________________________________________________________________________________\n",
            "block_11_depthwise_relu (ReLU)  (None, 8, 8, 576)    0           block_11_depthwise_BN[0][0]      \n",
            "__________________________________________________________________________________________________\n",
            "block_11_project (Conv2D)       (None, 8, 8, 96)     55296       block_11_depthwise_relu[0][0]    \n",
            "__________________________________________________________________________________________________\n",
            "block_11_project_BN (BatchNorma (None, 8, 8, 96)     384         block_11_project[0][0]           \n",
            "__________________________________________________________________________________________________\n",
            "block_11_add (Add)              (None, 8, 8, 96)     0           block_10_project_BN[0][0]        \n",
            "                                                                 block_11_project_BN[0][0]        \n",
            "__________________________________________________________________________________________________\n",
            "block_12_expand (Conv2D)        (None, 8, 8, 576)    55296       block_11_add[0][0]               \n",
            "__________________________________________________________________________________________________\n",
            "block_12_expand_BN (BatchNormal (None, 8, 8, 576)    2304        block_12_expand[0][0]            \n",
            "__________________________________________________________________________________________________\n",
            "block_12_expand_relu (ReLU)     (None, 8, 8, 576)    0           block_12_expand_BN[0][0]         \n",
            "__________________________________________________________________________________________________\n",
            "block_12_depthwise (DepthwiseCo (None, 8, 8, 576)    5184        block_12_expand_relu[0][0]       \n",
            "__________________________________________________________________________________________________\n",
            "block_12_depthwise_BN (BatchNor (None, 8, 8, 576)    2304        block_12_depthwise[0][0]         \n",
            "__________________________________________________________________________________________________\n",
            "block_12_depthwise_relu (ReLU)  (None, 8, 8, 576)    0           block_12_depthwise_BN[0][0]      \n",
            "__________________________________________________________________________________________________\n",
            "block_12_project (Conv2D)       (None, 8, 8, 96)     55296       block_12_depthwise_relu[0][0]    \n",
            "__________________________________________________________________________________________________\n",
            "block_12_project_BN (BatchNorma (None, 8, 8, 96)     384         block_12_project[0][0]           \n",
            "__________________________________________________________________________________________________\n",
            "block_12_add (Add)              (None, 8, 8, 96)     0           block_11_add[0][0]               \n",
            "                                                                 block_12_project_BN[0][0]        \n",
            "__________________________________________________________________________________________________\n",
            "block_13_expand (Conv2D)        (None, 8, 8, 576)    55296       block_12_add[0][0]               \n",
            "__________________________________________________________________________________________________\n",
            "block_13_expand_BN (BatchNormal (None, 8, 8, 576)    2304        block_13_expand[0][0]            \n",
            "__________________________________________________________________________________________________\n",
            "block_13_expand_relu (ReLU)     (None, 8, 8, 576)    0           block_13_expand_BN[0][0]         \n",
            "__________________________________________________________________________________________________\n",
            "block_13_pad (ZeroPadding2D)    (None, 9, 9, 576)    0           block_13_expand_relu[0][0]       \n",
            "__________________________________________________________________________________________________\n",
            "block_13_depthwise (DepthwiseCo (None, 4, 4, 576)    5184        block_13_pad[0][0]               \n",
            "__________________________________________________________________________________________________\n",
            "block_13_depthwise_BN (BatchNor (None, 4, 4, 576)    2304        block_13_depthwise[0][0]         \n",
            "__________________________________________________________________________________________________\n",
            "block_13_depthwise_relu (ReLU)  (None, 4, 4, 576)    0           block_13_depthwise_BN[0][0]      \n",
            "__________________________________________________________________________________________________\n",
            "block_13_project (Conv2D)       (None, 4, 4, 160)    92160       block_13_depthwise_relu[0][0]    \n",
            "__________________________________________________________________________________________________\n",
            "block_13_project_BN (BatchNorma (None, 4, 4, 160)    640         block_13_project[0][0]           \n",
            "__________________________________________________________________________________________________\n",
            "block_14_expand (Conv2D)        (None, 4, 4, 960)    153600      block_13_project_BN[0][0]        \n",
            "__________________________________________________________________________________________________\n",
            "block_14_expand_BN (BatchNormal (None, 4, 4, 960)    3840        block_14_expand[0][0]            \n",
            "__________________________________________________________________________________________________\n",
            "block_14_expand_relu (ReLU)     (None, 4, 4, 960)    0           block_14_expand_BN[0][0]         \n",
            "__________________________________________________________________________________________________\n",
            "block_14_depthwise (DepthwiseCo (None, 4, 4, 960)    8640        block_14_expand_relu[0][0]       \n",
            "__________________________________________________________________________________________________\n",
            "block_14_depthwise_BN (BatchNor (None, 4, 4, 960)    3840        block_14_depthwise[0][0]         \n",
            "__________________________________________________________________________________________________\n",
            "block_14_depthwise_relu (ReLU)  (None, 4, 4, 960)    0           block_14_depthwise_BN[0][0]      \n",
            "__________________________________________________________________________________________________\n",
            "block_14_project (Conv2D)       (None, 4, 4, 160)    153600      block_14_depthwise_relu[0][0]    \n",
            "__________________________________________________________________________________________________\n",
            "block_14_project_BN (BatchNorma (None, 4, 4, 160)    640         block_14_project[0][0]           \n",
            "__________________________________________________________________________________________________\n",
            "block_14_add (Add)              (None, 4, 4, 160)    0           block_13_project_BN[0][0]        \n",
            "                                                                 block_14_project_BN[0][0]        \n",
            "__________________________________________________________________________________________________\n",
            "block_15_expand (Conv2D)        (None, 4, 4, 960)    153600      block_14_add[0][0]               \n",
            "__________________________________________________________________________________________________\n",
            "block_15_expand_BN (BatchNormal (None, 4, 4, 960)    3840        block_15_expand[0][0]            \n",
            "__________________________________________________________________________________________________\n",
            "block_15_expand_relu (ReLU)     (None, 4, 4, 960)    0           block_15_expand_BN[0][0]         \n",
            "__________________________________________________________________________________________________\n",
            "block_15_depthwise (DepthwiseCo (None, 4, 4, 960)    8640        block_15_expand_relu[0][0]       \n",
            "__________________________________________________________________________________________________\n",
            "block_15_depthwise_BN (BatchNor (None, 4, 4, 960)    3840        block_15_depthwise[0][0]         \n",
            "__________________________________________________________________________________________________\n",
            "block_15_depthwise_relu (ReLU)  (None, 4, 4, 960)    0           block_15_depthwise_BN[0][0]      \n",
            "__________________________________________________________________________________________________\n",
            "block_15_project (Conv2D)       (None, 4, 4, 160)    153600      block_15_depthwise_relu[0][0]    \n",
            "__________________________________________________________________________________________________\n",
            "block_15_project_BN (BatchNorma (None, 4, 4, 160)    640         block_15_project[0][0]           \n",
            "__________________________________________________________________________________________________\n",
            "block_15_add (Add)              (None, 4, 4, 160)    0           block_14_add[0][0]               \n",
            "                                                                 block_15_project_BN[0][0]        \n",
            "__________________________________________________________________________________________________\n",
            "block_16_expand (Conv2D)        (None, 4, 4, 960)    153600      block_15_add[0][0]               \n",
            "__________________________________________________________________________________________________\n",
            "block_16_expand_BN (BatchNormal (None, 4, 4, 960)    3840        block_16_expand[0][0]            \n",
            "__________________________________________________________________________________________________\n",
            "block_16_expand_relu (ReLU)     (None, 4, 4, 960)    0           block_16_expand_BN[0][0]         \n",
            "__________________________________________________________________________________________________\n",
            "block_16_depthwise (DepthwiseCo (None, 4, 4, 960)    8640        block_16_expand_relu[0][0]       \n",
            "__________________________________________________________________________________________________\n",
            "block_16_depthwise_BN (BatchNor (None, 4, 4, 960)    3840        block_16_depthwise[0][0]         \n",
            "__________________________________________________________________________________________________\n",
            "block_16_depthwise_relu (ReLU)  (None, 4, 4, 960)    0           block_16_depthwise_BN[0][0]      \n",
            "__________________________________________________________________________________________________\n",
            "block_16_project (Conv2D)       (None, 4, 4, 320)    307200      block_16_depthwise_relu[0][0]    \n",
            "__________________________________________________________________________________________________\n",
            "block_16_project_BN (BatchNorma (None, 4, 4, 320)    1280        block_16_project[0][0]           \n",
            "__________________________________________________________________________________________________\n",
            "Conv_1 (Conv2D)                 (None, 4, 4, 1280)   409600      block_16_project_BN[0][0]        \n",
            "__________________________________________________________________________________________________\n",
            "Conv_1_bn (BatchNormalization)  (None, 4, 4, 1280)   5120        Conv_1[0][0]                     \n",
            "__________________________________________________________________________________________________\n",
            "out_relu (ReLU)                 (None, 4, 4, 1280)   0           Conv_1_bn[0][0]                  \n",
            "__________________________________________________________________________________________________\n",
            "flatten_1 (Flatten)             (None, 20480)        0           out_relu[0][0]                   \n",
            "==================================================================================================\n",
            "Total params: 2,257,984\n",
            "Trainable params: 0\n",
            "Non-trainable params: 2,257,984\n",
            "__________________________________________________________________________________________________\n"
          ],
          "name": "stdout"
        }
      ]
    },
    {
      "cell_type": "code",
      "metadata": {
        "colab": {
          "base_uri": "https://localhost:8080/"
        },
        "id": "I9B--O1aT_l0",
        "outputId": "147d0aa7-5a50-410c-a2d7-35711f7d85e9"
      },
      "source": [
        "mnetv2_model.output_shape[1]"
      ],
      "execution_count": null,
      "outputs": [
        {
          "output_type": "execute_result",
          "data": {
            "text/plain": [
              "20480"
            ]
          },
          "metadata": {
            "tags": []
          },
          "execution_count": 23
        }
      ]
    },
    {
      "cell_type": "markdown",
      "metadata": {
        "id": "HjV8ZWwSYZ0W"
      },
      "source": [
        "### Check the status of Trainable Layers"
      ]
    },
    {
      "cell_type": "code",
      "metadata": {
        "colab": {
          "base_uri": "https://localhost:8080/",
          "height": 406
        },
        "id": "83N_qVy3X4_-",
        "outputId": "ff4ec5d9-61a8-4f3e-b8fb-952317c07dc4"
      },
      "source": [
        "import pandas as pd\n",
        "pd.set_option('max_colwidth',None)\n",
        "\n",
        "layers = [(layer, layer.name, layer.trainable) for layer in mnetv2_model.layers]\n",
        "pd.DataFrame(layers, columns=['Layer Type', 'Layer Name', 'Layer Trainable'])"
      ],
      "execution_count": null,
      "outputs": [
        {
          "output_type": "execute_result",
          "data": {
            "text/html": [
              "<div>\n",
              "<style scoped>\n",
              "    .dataframe tbody tr th:only-of-type {\n",
              "        vertical-align: middle;\n",
              "    }\n",
              "\n",
              "    .dataframe tbody tr th {\n",
              "        vertical-align: top;\n",
              "    }\n",
              "\n",
              "    .dataframe thead th {\n",
              "        text-align: right;\n",
              "    }\n",
              "</style>\n",
              "<table border=\"1\" class=\"dataframe\">\n",
              "  <thead>\n",
              "    <tr style=\"text-align: right;\">\n",
              "      <th></th>\n",
              "      <th>Layer Type</th>\n",
              "      <th>Layer Name</th>\n",
              "      <th>Layer Trainable</th>\n",
              "    </tr>\n",
              "  </thead>\n",
              "  <tbody>\n",
              "    <tr>\n",
              "      <th>0</th>\n",
              "      <td>&lt;tensorflow.python.keras.engine.input_layer.InputLayer object at 0x7fd11e707438&gt;</td>\n",
              "      <td>input_1</td>\n",
              "      <td>False</td>\n",
              "    </tr>\n",
              "    <tr>\n",
              "      <th>1</th>\n",
              "      <td>&lt;tensorflow.python.keras.layers.convolutional.Conv2D object at 0x7fd11e766080&gt;</td>\n",
              "      <td>Conv1</td>\n",
              "      <td>False</td>\n",
              "    </tr>\n",
              "    <tr>\n",
              "      <th>2</th>\n",
              "      <td>&lt;tensorflow.python.keras.layers.normalization_v2.BatchNormalization object at 0x7fd11e751f98&gt;</td>\n",
              "      <td>bn_Conv1</td>\n",
              "      <td>False</td>\n",
              "    </tr>\n",
              "    <tr>\n",
              "      <th>3</th>\n",
              "      <td>&lt;tensorflow.python.keras.layers.advanced_activations.ReLU object at 0x7fd11e0e7748&gt;</td>\n",
              "      <td>Conv1_relu</td>\n",
              "      <td>False</td>\n",
              "    </tr>\n",
              "    <tr>\n",
              "      <th>4</th>\n",
              "      <td>&lt;tensorflow.python.keras.layers.convolutional.DepthwiseConv2D object at 0x7fd11e751c88&gt;</td>\n",
              "      <td>expanded_conv_depthwise</td>\n",
              "      <td>False</td>\n",
              "    </tr>\n",
              "    <tr>\n",
              "      <th>...</th>\n",
              "      <td>...</td>\n",
              "      <td>...</td>\n",
              "      <td>...</td>\n",
              "    </tr>\n",
              "    <tr>\n",
              "      <th>150</th>\n",
              "      <td>&lt;tensorflow.python.keras.layers.normalization_v2.BatchNormalization object at 0x7fd11a444be0&gt;</td>\n",
              "      <td>block_16_project_BN</td>\n",
              "      <td>False</td>\n",
              "    </tr>\n",
              "    <tr>\n",
              "      <th>151</th>\n",
              "      <td>&lt;tensorflow.python.keras.layers.convolutional.Conv2D object at 0x7fd11a467c50&gt;</td>\n",
              "      <td>Conv_1</td>\n",
              "      <td>False</td>\n",
              "    </tr>\n",
              "    <tr>\n",
              "      <th>152</th>\n",
              "      <td>&lt;tensorflow.python.keras.layers.normalization_v2.BatchNormalization object at 0x7fd11a45fb70&gt;</td>\n",
              "      <td>Conv_1_bn</td>\n",
              "      <td>False</td>\n",
              "    </tr>\n",
              "    <tr>\n",
              "      <th>153</th>\n",
              "      <td>&lt;tensorflow.python.keras.layers.advanced_activations.ReLU object at 0x7fd11a3f8278&gt;</td>\n",
              "      <td>out_relu</td>\n",
              "      <td>False</td>\n",
              "    </tr>\n",
              "    <tr>\n",
              "      <th>154</th>\n",
              "      <td>&lt;tensorflow.python.keras.layers.core.Flatten object at 0x7fd188582da0&gt;</td>\n",
              "      <td>flatten_1</td>\n",
              "      <td>False</td>\n",
              "    </tr>\n",
              "  </tbody>\n",
              "</table>\n",
              "<p>155 rows × 3 columns</p>\n",
              "</div>"
            ],
            "text/plain": [
              "                                                                                        Layer Type  ... Layer Trainable\n",
              "0                 <tensorflow.python.keras.engine.input_layer.InputLayer object at 0x7fd11e707438>  ...           False\n",
              "1                   <tensorflow.python.keras.layers.convolutional.Conv2D object at 0x7fd11e766080>  ...           False\n",
              "2    <tensorflow.python.keras.layers.normalization_v2.BatchNormalization object at 0x7fd11e751f98>  ...           False\n",
              "3              <tensorflow.python.keras.layers.advanced_activations.ReLU object at 0x7fd11e0e7748>  ...           False\n",
              "4          <tensorflow.python.keras.layers.convolutional.DepthwiseConv2D object at 0x7fd11e751c88>  ...           False\n",
              "..                                                                                             ...  ...             ...\n",
              "150  <tensorflow.python.keras.layers.normalization_v2.BatchNormalization object at 0x7fd11a444be0>  ...           False\n",
              "151                 <tensorflow.python.keras.layers.convolutional.Conv2D object at 0x7fd11a467c50>  ...           False\n",
              "152  <tensorflow.python.keras.layers.normalization_v2.BatchNormalization object at 0x7fd11a45fb70>  ...           False\n",
              "153            <tensorflow.python.keras.layers.advanced_activations.ReLU object at 0x7fd11a3f8278>  ...           False\n",
              "154                         <tensorflow.python.keras.layers.core.Flatten object at 0x7fd188582da0>  ...           False\n",
              "\n",
              "[155 rows x 3 columns]"
            ]
          },
          "metadata": {
            "tags": []
          },
          "execution_count": 24
        }
      ]
    },
    {
      "cell_type": "markdown",
      "metadata": {
        "id": "X-aT5s1nYwCi"
      },
      "source": [
        "### Customizing the Model as per our requirement"
      ]
    },
    {
      "cell_type": "code",
      "metadata": {
        "colab": {
          "base_uri": "https://localhost:8080/"
        },
        "id": "mxXjJjiGYHiR",
        "outputId": "84940d79-6bb5-438a-87bd-2f513d3c0e76"
      },
      "source": [
        "input_shape = mnetv2_model.output_shape[1]\n",
        "model_mnv2 = Sequential()\n",
        "model_mnv2.add(mnetv2_model)\n",
        "\n",
        "model_mnv2.add(Dense(16, activation='relu'))\n",
        "model_mnv2.add(Dropout(0.2))\n",
        "\n",
        "model_mnv2.add(Dense(4, activation='softmax'))\n",
        "learning_rate = 0.0001\n",
        "opt = Adam(lr=learning_rate)\n",
        "\n",
        "model_mnv2.compile(optimizer=opt,loss='categorical_crossentropy',metrics=['accuracy'])\n",
        "model_mnv2.summary()"
      ],
      "execution_count": null,
      "outputs": [
        {
          "output_type": "stream",
          "text": [
            "Model: \"sequential_1\"\n",
            "_________________________________________________________________\n",
            "Layer (type)                 Output Shape              Param #   \n",
            "=================================================================\n",
            "model (Functional)           (None, 20480)             2257984   \n",
            "_________________________________________________________________\n",
            "dense (Dense)                (None, 16)                327696    \n",
            "_________________________________________________________________\n",
            "dropout_3 (Dropout)          (None, 16)                0         \n",
            "_________________________________________________________________\n",
            "dense_1 (Dense)              (None, 4)                 68        \n",
            "=================================================================\n",
            "Total params: 2,585,748\n",
            "Trainable params: 327,764\n",
            "Non-trainable params: 2,257,984\n",
            "_________________________________________________________________\n"
          ],
          "name": "stdout"
        }
      ]
    },
    {
      "cell_type": "code",
      "metadata": {
        "colab": {
          "base_uri": "https://localhost:8080/"
        },
        "id": "SimaL9G7Y3iC",
        "outputId": "932bd7b7-94cc-451a-f279-2030d4e49827"
      },
      "source": [
        "checkpointer = ModelCheckpoint(filepath='/content/drive/My Drive/Datasets/Weather_mnetv2.weights.best.hdf5', verbose=1,save_best_only=True)\n",
        "history = model_mnv2.fit(X_train, y_train, batch_size=64, epochs=100, validation_data=(X_test, y_test), verbose=True,callbacks=[checkpointer])"
      ],
      "execution_count": null,
      "outputs": [
        {
          "output_type": "stream",
          "text": [
            "Epoch 1/100\n",
            "13/13 [==============================] - 4s 123ms/step - loss: 1.6160 - accuracy: 0.3676 - val_loss: 0.8023 - val_accuracy: 0.7537\n",
            "\n",
            "Epoch 00001: val_loss improved from inf to 0.80231, saving model to /content/drive/My Drive/Datasets/Weather_mnetv2.weights.best.hdf5\n",
            "Epoch 2/100\n",
            "13/13 [==============================] - 1s 41ms/step - loss: 0.6894 - accuracy: 0.7466 - val_loss: 0.5192 - val_accuracy: 0.8368\n",
            "\n",
            "Epoch 00002: val_loss improved from 0.80231 to 0.51920, saving model to /content/drive/My Drive/Datasets/Weather_mnetv2.weights.best.hdf5\n",
            "Epoch 3/100\n",
            "13/13 [==============================] - 1s 42ms/step - loss: 0.4659 - accuracy: 0.8288 - val_loss: 0.3790 - val_accuracy: 0.8724\n",
            "\n",
            "Epoch 00003: val_loss improved from 0.51920 to 0.37901, saving model to /content/drive/My Drive/Datasets/Weather_mnetv2.weights.best.hdf5\n",
            "Epoch 4/100\n",
            "13/13 [==============================] - 1s 42ms/step - loss: 0.3302 - accuracy: 0.8763 - val_loss: 0.3111 - val_accuracy: 0.8961\n",
            "\n",
            "Epoch 00004: val_loss improved from 0.37901 to 0.31105, saving model to /content/drive/My Drive/Datasets/Weather_mnetv2.weights.best.hdf5\n",
            "Epoch 5/100\n",
            "13/13 [==============================] - 1s 43ms/step - loss: 0.2537 - accuracy: 0.9149 - val_loss: 0.2704 - val_accuracy: 0.9169\n",
            "\n",
            "Epoch 00005: val_loss improved from 0.31105 to 0.27042, saving model to /content/drive/My Drive/Datasets/Weather_mnetv2.weights.best.hdf5\n",
            "Epoch 6/100\n",
            "13/13 [==============================] - 1s 42ms/step - loss: 0.1753 - accuracy: 0.9397 - val_loss: 0.2429 - val_accuracy: 0.9169\n",
            "\n",
            "Epoch 00006: val_loss improved from 0.27042 to 0.24294, saving model to /content/drive/My Drive/Datasets/Weather_mnetv2.weights.best.hdf5\n",
            "Epoch 7/100\n",
            "13/13 [==============================] - 1s 42ms/step - loss: 0.1405 - accuracy: 0.9664 - val_loss: 0.2328 - val_accuracy: 0.9258\n",
            "\n",
            "Epoch 00007: val_loss improved from 0.24294 to 0.23281, saving model to /content/drive/My Drive/Datasets/Weather_mnetv2.weights.best.hdf5\n",
            "Epoch 8/100\n",
            "13/13 [==============================] - 1s 42ms/step - loss: 0.1134 - accuracy: 0.9716 - val_loss: 0.2242 - val_accuracy: 0.9318\n",
            "\n",
            "Epoch 00008: val_loss improved from 0.23281 to 0.22416, saving model to /content/drive/My Drive/Datasets/Weather_mnetv2.weights.best.hdf5\n",
            "Epoch 9/100\n",
            "13/13 [==============================] - 1s 43ms/step - loss: 0.0942 - accuracy: 0.9726 - val_loss: 0.2048 - val_accuracy: 0.9347\n",
            "\n",
            "Epoch 00009: val_loss improved from 0.22416 to 0.20476, saving model to /content/drive/My Drive/Datasets/Weather_mnetv2.weights.best.hdf5\n",
            "Epoch 10/100\n",
            "13/13 [==============================] - 1s 42ms/step - loss: 0.1038 - accuracy: 0.9677 - val_loss: 0.2175 - val_accuracy: 0.9228\n",
            "\n",
            "Epoch 00010: val_loss did not improve from 0.20476\n",
            "Epoch 11/100\n",
            "13/13 [==============================] - 1s 42ms/step - loss: 0.0850 - accuracy: 0.9751 - val_loss: 0.2033 - val_accuracy: 0.9407\n",
            "\n",
            "Epoch 00011: val_loss improved from 0.20476 to 0.20333, saving model to /content/drive/My Drive/Datasets/Weather_mnetv2.weights.best.hdf5\n",
            "Epoch 12/100\n",
            "13/13 [==============================] - 1s 43ms/step - loss: 0.0655 - accuracy: 0.9829 - val_loss: 0.2016 - val_accuracy: 0.9407\n",
            "\n",
            "Epoch 00012: val_loss improved from 0.20333 to 0.20158, saving model to /content/drive/My Drive/Datasets/Weather_mnetv2.weights.best.hdf5\n",
            "Epoch 13/100\n",
            "13/13 [==============================] - 1s 42ms/step - loss: 0.0774 - accuracy: 0.9783 - val_loss: 0.1979 - val_accuracy: 0.9407\n",
            "\n",
            "Epoch 00013: val_loss improved from 0.20158 to 0.19791, saving model to /content/drive/My Drive/Datasets/Weather_mnetv2.weights.best.hdf5\n",
            "Epoch 14/100\n",
            "13/13 [==============================] - 1s 42ms/step - loss: 0.0735 - accuracy: 0.9770 - val_loss: 0.1830 - val_accuracy: 0.9407\n",
            "\n",
            "Epoch 00014: val_loss improved from 0.19791 to 0.18302, saving model to /content/drive/My Drive/Datasets/Weather_mnetv2.weights.best.hdf5\n",
            "Epoch 15/100\n",
            "13/13 [==============================] - 1s 43ms/step - loss: 0.0593 - accuracy: 0.9836 - val_loss: 0.1893 - val_accuracy: 0.9436\n",
            "\n",
            "Epoch 00015: val_loss did not improve from 0.18302\n",
            "Epoch 16/100\n",
            "13/13 [==============================] - 1s 43ms/step - loss: 0.0441 - accuracy: 0.9901 - val_loss: 0.1936 - val_accuracy: 0.9436\n",
            "\n",
            "Epoch 00016: val_loss did not improve from 0.18302\n",
            "Epoch 17/100\n",
            "13/13 [==============================] - 1s 43ms/step - loss: 0.0515 - accuracy: 0.9869 - val_loss: 0.1963 - val_accuracy: 0.9347\n",
            "\n",
            "Epoch 00017: val_loss did not improve from 0.18302\n",
            "Epoch 18/100\n",
            "13/13 [==============================] - 1s 41ms/step - loss: 0.0546 - accuracy: 0.9861 - val_loss: 0.1797 - val_accuracy: 0.9407\n",
            "\n",
            "Epoch 00018: val_loss improved from 0.18302 to 0.17972, saving model to /content/drive/My Drive/Datasets/Weather_mnetv2.weights.best.hdf5\n",
            "Epoch 19/100\n",
            "13/13 [==============================] - 1s 42ms/step - loss: 0.0463 - accuracy: 0.9874 - val_loss: 0.1943 - val_accuracy: 0.9377\n",
            "\n",
            "Epoch 00019: val_loss did not improve from 0.17972\n",
            "Epoch 20/100\n",
            "13/13 [==============================] - 1s 42ms/step - loss: 0.0340 - accuracy: 0.9952 - val_loss: 0.1716 - val_accuracy: 0.9466\n",
            "\n",
            "Epoch 00020: val_loss improved from 0.17972 to 0.17164, saving model to /content/drive/My Drive/Datasets/Weather_mnetv2.weights.best.hdf5\n",
            "Epoch 21/100\n",
            "13/13 [==============================] - 1s 43ms/step - loss: 0.0407 - accuracy: 0.9943 - val_loss: 0.1704 - val_accuracy: 0.9436\n",
            "\n",
            "Epoch 00021: val_loss improved from 0.17164 to 0.17036, saving model to /content/drive/My Drive/Datasets/Weather_mnetv2.weights.best.hdf5\n",
            "Epoch 22/100\n",
            "13/13 [==============================] - 1s 43ms/step - loss: 0.0446 - accuracy: 0.9865 - val_loss: 0.1681 - val_accuracy: 0.9466\n",
            "\n",
            "Epoch 00022: val_loss improved from 0.17036 to 0.16811, saving model to /content/drive/My Drive/Datasets/Weather_mnetv2.weights.best.hdf5\n",
            "Epoch 23/100\n",
            "13/13 [==============================] - 1s 43ms/step - loss: 0.0350 - accuracy: 0.9905 - val_loss: 0.1797 - val_accuracy: 0.9436\n",
            "\n",
            "Epoch 00023: val_loss did not improve from 0.16811\n",
            "Epoch 24/100\n",
            "13/13 [==============================] - 1s 41ms/step - loss: 0.0410 - accuracy: 0.9907 - val_loss: 0.1950 - val_accuracy: 0.9377\n",
            "\n",
            "Epoch 00024: val_loss did not improve from 0.16811\n",
            "Epoch 25/100\n",
            "13/13 [==============================] - 1s 42ms/step - loss: 0.0376 - accuracy: 0.9894 - val_loss: 0.1755 - val_accuracy: 0.9525\n",
            "\n",
            "Epoch 00025: val_loss did not improve from 0.16811\n",
            "Epoch 26/100\n",
            "13/13 [==============================] - 1s 42ms/step - loss: 0.0338 - accuracy: 0.9926 - val_loss: 0.1774 - val_accuracy: 0.9496\n",
            "\n",
            "Epoch 00026: val_loss did not improve from 0.16811\n",
            "Epoch 27/100\n",
            "13/13 [==============================] - 1s 42ms/step - loss: 0.0352 - accuracy: 0.9916 - val_loss: 0.1832 - val_accuracy: 0.9496\n",
            "\n",
            "Epoch 00027: val_loss did not improve from 0.16811\n",
            "Epoch 28/100\n",
            "13/13 [==============================] - 1s 42ms/step - loss: 0.0319 - accuracy: 0.9905 - val_loss: 0.1870 - val_accuracy: 0.9466\n",
            "\n",
            "Epoch 00028: val_loss did not improve from 0.16811\n",
            "Epoch 29/100\n",
            "13/13 [==============================] - 1s 42ms/step - loss: 0.0242 - accuracy: 0.9955 - val_loss: 0.1755 - val_accuracy: 0.9466\n",
            "\n",
            "Epoch 00029: val_loss did not improve from 0.16811\n",
            "Epoch 30/100\n",
            "13/13 [==============================] - 1s 42ms/step - loss: 0.0329 - accuracy: 0.9901 - val_loss: 0.1811 - val_accuracy: 0.9496\n",
            "\n",
            "Epoch 00030: val_loss did not improve from 0.16811\n",
            "Epoch 31/100\n",
            "13/13 [==============================] - 1s 42ms/step - loss: 0.0384 - accuracy: 0.9849 - val_loss: 0.1753 - val_accuracy: 0.9496\n",
            "\n",
            "Epoch 00031: val_loss did not improve from 0.16811\n",
            "Epoch 32/100\n",
            "13/13 [==============================] - 1s 42ms/step - loss: 0.0280 - accuracy: 0.9906 - val_loss: 0.1829 - val_accuracy: 0.9466\n",
            "\n",
            "Epoch 00032: val_loss did not improve from 0.16811\n",
            "Epoch 33/100\n",
            "13/13 [==============================] - 1s 42ms/step - loss: 0.0290 - accuracy: 0.9912 - val_loss: 0.1881 - val_accuracy: 0.9466\n",
            "\n",
            "Epoch 00033: val_loss did not improve from 0.16811\n",
            "Epoch 34/100\n",
            "13/13 [==============================] - 1s 42ms/step - loss: 0.0306 - accuracy: 0.9901 - val_loss: 0.1891 - val_accuracy: 0.9496\n",
            "\n",
            "Epoch 00034: val_loss did not improve from 0.16811\n",
            "Epoch 35/100\n",
            "13/13 [==============================] - 1s 42ms/step - loss: 0.0210 - accuracy: 0.9964 - val_loss: 0.1946 - val_accuracy: 0.9436\n",
            "\n",
            "Epoch 00035: val_loss did not improve from 0.16811\n",
            "Epoch 36/100\n",
            "13/13 [==============================] - 1s 42ms/step - loss: 0.0266 - accuracy: 0.9889 - val_loss: 0.1950 - val_accuracy: 0.9466\n",
            "\n",
            "Epoch 00036: val_loss did not improve from 0.16811\n",
            "Epoch 37/100\n",
            "13/13 [==============================] - 1s 42ms/step - loss: 0.0267 - accuracy: 0.9928 - val_loss: 0.1911 - val_accuracy: 0.9496\n",
            "\n",
            "Epoch 00037: val_loss did not improve from 0.16811\n",
            "Epoch 38/100\n",
            "13/13 [==============================] - 1s 43ms/step - loss: 0.0236 - accuracy: 0.9976 - val_loss: 0.1804 - val_accuracy: 0.9466\n",
            "\n",
            "Epoch 00038: val_loss did not improve from 0.16811\n",
            "Epoch 39/100\n",
            "13/13 [==============================] - 1s 43ms/step - loss: 0.0213 - accuracy: 0.9960 - val_loss: 0.1874 - val_accuracy: 0.9525\n",
            "\n",
            "Epoch 00039: val_loss did not improve from 0.16811\n",
            "Epoch 40/100\n",
            "13/13 [==============================] - 1s 42ms/step - loss: 0.0187 - accuracy: 0.9978 - val_loss: 0.1839 - val_accuracy: 0.9466\n",
            "\n",
            "Epoch 00040: val_loss did not improve from 0.16811\n",
            "Epoch 41/100\n",
            "13/13 [==============================] - 1s 43ms/step - loss: 0.0215 - accuracy: 0.9964 - val_loss: 0.1799 - val_accuracy: 0.9496\n",
            "\n",
            "Epoch 00041: val_loss did not improve from 0.16811\n",
            "Epoch 42/100\n",
            "13/13 [==============================] - 1s 43ms/step - loss: 0.0261 - accuracy: 0.9927 - val_loss: 0.1669 - val_accuracy: 0.9466\n",
            "\n",
            "Epoch 00042: val_loss improved from 0.16811 to 0.16689, saving model to /content/drive/My Drive/Datasets/Weather_mnetv2.weights.best.hdf5\n",
            "Epoch 43/100\n",
            "13/13 [==============================] - 1s 44ms/step - loss: 0.0186 - accuracy: 0.9976 - val_loss: 0.1907 - val_accuracy: 0.9466\n",
            "\n",
            "Epoch 00043: val_loss did not improve from 0.16689\n",
            "Epoch 44/100\n",
            "13/13 [==============================] - 1s 42ms/step - loss: 0.0222 - accuracy: 0.9976 - val_loss: 0.1850 - val_accuracy: 0.9466\n",
            "\n",
            "Epoch 00044: val_loss did not improve from 0.16689\n",
            "Epoch 45/100\n",
            "13/13 [==============================] - 1s 43ms/step - loss: 0.0204 - accuracy: 0.9930 - val_loss: 0.1749 - val_accuracy: 0.9496\n",
            "\n",
            "Epoch 00045: val_loss did not improve from 0.16689\n",
            "Epoch 46/100\n",
            "13/13 [==============================] - 1s 42ms/step - loss: 0.0153 - accuracy: 0.9985 - val_loss: 0.1740 - val_accuracy: 0.9496\n",
            "\n",
            "Epoch 00046: val_loss did not improve from 0.16689\n",
            "Epoch 47/100\n",
            "13/13 [==============================] - 1s 42ms/step - loss: 0.0232 - accuracy: 0.9932 - val_loss: 0.1907 - val_accuracy: 0.9466\n",
            "\n",
            "Epoch 00047: val_loss did not improve from 0.16689\n",
            "Epoch 48/100\n",
            "13/13 [==============================] - 1s 42ms/step - loss: 0.0167 - accuracy: 0.9952 - val_loss: 0.2010 - val_accuracy: 0.9466\n",
            "\n",
            "Epoch 00048: val_loss did not improve from 0.16689\n",
            "Epoch 49/100\n",
            "13/13 [==============================] - 1s 43ms/step - loss: 0.0129 - accuracy: 0.9979 - val_loss: 0.1847 - val_accuracy: 0.9496\n",
            "\n",
            "Epoch 00049: val_loss did not improve from 0.16689\n",
            "Epoch 50/100\n",
            "13/13 [==============================] - 1s 43ms/step - loss: 0.0169 - accuracy: 0.9962 - val_loss: 0.1804 - val_accuracy: 0.9525\n",
            "\n",
            "Epoch 00050: val_loss did not improve from 0.16689\n",
            "Epoch 51/100\n",
            "13/13 [==============================] - 1s 43ms/step - loss: 0.0184 - accuracy: 0.9933 - val_loss: 0.2079 - val_accuracy: 0.9466\n",
            "\n",
            "Epoch 00051: val_loss did not improve from 0.16689\n",
            "Epoch 52/100\n",
            "13/13 [==============================] - 1s 42ms/step - loss: 0.0248 - accuracy: 0.9918 - val_loss: 0.1916 - val_accuracy: 0.9496\n",
            "\n",
            "Epoch 00052: val_loss did not improve from 0.16689\n",
            "Epoch 53/100\n",
            "13/13 [==============================] - 1s 43ms/step - loss: 0.0151 - accuracy: 0.9998 - val_loss: 0.1944 - val_accuracy: 0.9525\n",
            "\n",
            "Epoch 00053: val_loss did not improve from 0.16689\n",
            "Epoch 54/100\n",
            "13/13 [==============================] - 1s 44ms/step - loss: 0.0149 - accuracy: 0.9947 - val_loss: 0.1943 - val_accuracy: 0.9525\n",
            "\n",
            "Epoch 00054: val_loss did not improve from 0.16689\n",
            "Epoch 55/100\n",
            "13/13 [==============================] - 1s 43ms/step - loss: 0.0193 - accuracy: 0.9962 - val_loss: 0.2093 - val_accuracy: 0.9496\n",
            "\n",
            "Epoch 00055: val_loss did not improve from 0.16689\n",
            "Epoch 56/100\n",
            "13/13 [==============================] - 1s 43ms/step - loss: 0.0201 - accuracy: 0.9907 - val_loss: 0.1983 - val_accuracy: 0.9496\n",
            "\n",
            "Epoch 00056: val_loss did not improve from 0.16689\n",
            "Epoch 57/100\n",
            "13/13 [==============================] - 1s 43ms/step - loss: 0.0260 - accuracy: 0.9914 - val_loss: 0.1969 - val_accuracy: 0.9525\n",
            "\n",
            "Epoch 00057: val_loss did not improve from 0.16689\n",
            "Epoch 58/100\n",
            "13/13 [==============================] - 1s 43ms/step - loss: 0.0234 - accuracy: 0.9899 - val_loss: 0.2002 - val_accuracy: 0.9525\n",
            "\n",
            "Epoch 00058: val_loss did not improve from 0.16689\n",
            "Epoch 59/100\n",
            "13/13 [==============================] - 1s 44ms/step - loss: 0.0194 - accuracy: 0.9967 - val_loss: 0.2003 - val_accuracy: 0.9496\n",
            "\n",
            "Epoch 00059: val_loss did not improve from 0.16689\n",
            "Epoch 60/100\n",
            "13/13 [==============================] - 1s 43ms/step - loss: 0.0138 - accuracy: 0.9982 - val_loss: 0.1962 - val_accuracy: 0.9496\n",
            "\n",
            "Epoch 00060: val_loss did not improve from 0.16689\n",
            "Epoch 61/100\n",
            "13/13 [==============================] - 1s 42ms/step - loss: 0.0107 - accuracy: 0.9996 - val_loss: 0.1966 - val_accuracy: 0.9466\n",
            "\n",
            "Epoch 00061: val_loss did not improve from 0.16689\n",
            "Epoch 62/100\n",
            "13/13 [==============================] - 1s 43ms/step - loss: 0.0104 - accuracy: 0.9976 - val_loss: 0.1997 - val_accuracy: 0.9436\n",
            "\n",
            "Epoch 00062: val_loss did not improve from 0.16689\n",
            "Epoch 63/100\n",
            "13/13 [==============================] - 1s 42ms/step - loss: 0.0141 - accuracy: 0.9980 - val_loss: 0.1993 - val_accuracy: 0.9496\n",
            "\n",
            "Epoch 00063: val_loss did not improve from 0.16689\n",
            "Epoch 64/100\n",
            "13/13 [==============================] - 1s 42ms/step - loss: 0.0134 - accuracy: 0.9980 - val_loss: 0.2098 - val_accuracy: 0.9496\n",
            "\n",
            "Epoch 00064: val_loss did not improve from 0.16689\n",
            "Epoch 65/100\n",
            "13/13 [==============================] - 1s 43ms/step - loss: 0.0139 - accuracy: 0.9967 - val_loss: 0.2041 - val_accuracy: 0.9496\n",
            "\n",
            "Epoch 00065: val_loss did not improve from 0.16689\n",
            "Epoch 66/100\n",
            "13/13 [==============================] - 1s 42ms/step - loss: 0.0130 - accuracy: 0.9980 - val_loss: 0.1970 - val_accuracy: 0.9466\n",
            "\n",
            "Epoch 00066: val_loss did not improve from 0.16689\n",
            "Epoch 67/100\n",
            "13/13 [==============================] - 1s 54ms/step - loss: 0.0191 - accuracy: 0.9938 - val_loss: 0.2098 - val_accuracy: 0.9466\n",
            "\n",
            "Epoch 00067: val_loss did not improve from 0.16689\n",
            "Epoch 68/100\n",
            "13/13 [==============================] - 1s 42ms/step - loss: 0.0146 - accuracy: 0.9964 - val_loss: 0.2237 - val_accuracy: 0.9496\n",
            "\n",
            "Epoch 00068: val_loss did not improve from 0.16689\n",
            "Epoch 69/100\n",
            "13/13 [==============================] - 1s 44ms/step - loss: 0.0123 - accuracy: 0.9950 - val_loss: 0.2164 - val_accuracy: 0.9466\n",
            "\n",
            "Epoch 00069: val_loss did not improve from 0.16689\n",
            "Epoch 70/100\n",
            "13/13 [==============================] - 1s 43ms/step - loss: 0.0121 - accuracy: 0.9978 - val_loss: 0.2216 - val_accuracy: 0.9436\n",
            "\n",
            "Epoch 00070: val_loss did not improve from 0.16689\n",
            "Epoch 71/100\n",
            "13/13 [==============================] - 1s 43ms/step - loss: 0.0149 - accuracy: 0.9963 - val_loss: 0.2109 - val_accuracy: 0.9525\n",
            "\n",
            "Epoch 00071: val_loss did not improve from 0.16689\n",
            "Epoch 72/100\n",
            "13/13 [==============================] - 1s 42ms/step - loss: 0.0215 - accuracy: 0.9902 - val_loss: 0.2053 - val_accuracy: 0.9466\n",
            "\n",
            "Epoch 00072: val_loss did not improve from 0.16689\n",
            "Epoch 73/100\n",
            "13/13 [==============================] - 1s 43ms/step - loss: 0.0130 - accuracy: 0.9969 - val_loss: 0.2060 - val_accuracy: 0.9466\n",
            "\n",
            "Epoch 00073: val_loss did not improve from 0.16689\n",
            "Epoch 74/100\n",
            "13/13 [==============================] - 1s 43ms/step - loss: 0.0106 - accuracy: 0.9981 - val_loss: 0.2134 - val_accuracy: 0.9496\n",
            "\n",
            "Epoch 00074: val_loss did not improve from 0.16689\n",
            "Epoch 75/100\n",
            "13/13 [==============================] - 1s 43ms/step - loss: 0.0120 - accuracy: 0.9974 - val_loss: 0.2236 - val_accuracy: 0.9496\n",
            "\n",
            "Epoch 00075: val_loss did not improve from 0.16689\n",
            "Epoch 76/100\n",
            "13/13 [==============================] - 1s 43ms/step - loss: 0.0156 - accuracy: 0.9948 - val_loss: 0.2131 - val_accuracy: 0.9525\n",
            "\n",
            "Epoch 00076: val_loss did not improve from 0.16689\n",
            "Epoch 77/100\n",
            "13/13 [==============================] - 1s 43ms/step - loss: 0.0175 - accuracy: 0.9934 - val_loss: 0.2184 - val_accuracy: 0.9525\n",
            "\n",
            "Epoch 00077: val_loss did not improve from 0.16689\n",
            "Epoch 78/100\n",
            "13/13 [==============================] - 1s 42ms/step - loss: 0.0132 - accuracy: 0.9975 - val_loss: 0.2113 - val_accuracy: 0.9496\n",
            "\n",
            "Epoch 00078: val_loss did not improve from 0.16689\n",
            "Epoch 79/100\n",
            "13/13 [==============================] - 1s 43ms/step - loss: 0.0134 - accuracy: 0.9934 - val_loss: 0.2072 - val_accuracy: 0.9466\n",
            "\n",
            "Epoch 00079: val_loss did not improve from 0.16689\n",
            "Epoch 80/100\n",
            "13/13 [==============================] - 1s 43ms/step - loss: 0.0105 - accuracy: 0.9977 - val_loss: 0.2125 - val_accuracy: 0.9496\n",
            "\n",
            "Epoch 00080: val_loss did not improve from 0.16689\n",
            "Epoch 81/100\n",
            "13/13 [==============================] - 1s 43ms/step - loss: 0.0094 - accuracy: 0.9989 - val_loss: 0.2172 - val_accuracy: 0.9525\n",
            "\n",
            "Epoch 00081: val_loss did not improve from 0.16689\n",
            "Epoch 82/100\n",
            "13/13 [==============================] - 1s 43ms/step - loss: 0.0230 - accuracy: 0.9886 - val_loss: 0.2178 - val_accuracy: 0.9525\n",
            "\n",
            "Epoch 00082: val_loss did not improve from 0.16689\n",
            "Epoch 83/100\n",
            "13/13 [==============================] - 1s 42ms/step - loss: 0.0157 - accuracy: 0.9959 - val_loss: 0.1951 - val_accuracy: 0.9436\n",
            "\n",
            "Epoch 00083: val_loss did not improve from 0.16689\n",
            "Epoch 84/100\n",
            "13/13 [==============================] - 1s 42ms/step - loss: 0.0075 - accuracy: 0.9987 - val_loss: 0.2002 - val_accuracy: 0.9407\n",
            "\n",
            "Epoch 00084: val_loss did not improve from 0.16689\n",
            "Epoch 85/100\n",
            "13/13 [==============================] - 1s 43ms/step - loss: 0.0172 - accuracy: 0.9938 - val_loss: 0.2151 - val_accuracy: 0.9407\n",
            "\n",
            "Epoch 00085: val_loss did not improve from 0.16689\n",
            "Epoch 86/100\n",
            "13/13 [==============================] - 1s 43ms/step - loss: 0.0141 - accuracy: 0.9928 - val_loss: 0.2130 - val_accuracy: 0.9407\n",
            "\n",
            "Epoch 00086: val_loss did not improve from 0.16689\n",
            "Epoch 87/100\n",
            "13/13 [==============================] - 1s 43ms/step - loss: 0.0108 - accuracy: 0.9948 - val_loss: 0.2050 - val_accuracy: 0.9436\n",
            "\n",
            "Epoch 00087: val_loss did not improve from 0.16689\n",
            "Epoch 88/100\n",
            "13/13 [==============================] - 1s 42ms/step - loss: 0.0137 - accuracy: 0.9958 - val_loss: 0.1976 - val_accuracy: 0.9466\n",
            "\n",
            "Epoch 00088: val_loss did not improve from 0.16689\n",
            "Epoch 89/100\n",
            "13/13 [==============================] - 1s 43ms/step - loss: 0.0121 - accuracy: 0.9955 - val_loss: 0.2095 - val_accuracy: 0.9466\n",
            "\n",
            "Epoch 00089: val_loss did not improve from 0.16689\n",
            "Epoch 90/100\n",
            "13/13 [==============================] - 1s 43ms/step - loss: 0.0076 - accuracy: 0.9991 - val_loss: 0.2089 - val_accuracy: 0.9525\n",
            "\n",
            "Epoch 00090: val_loss did not improve from 0.16689\n",
            "Epoch 91/100\n",
            "13/13 [==============================] - 1s 43ms/step - loss: 0.0108 - accuracy: 0.9986 - val_loss: 0.2057 - val_accuracy: 0.9555\n",
            "\n",
            "Epoch 00091: val_loss did not improve from 0.16689\n",
            "Epoch 92/100\n",
            "13/13 [==============================] - 1s 42ms/step - loss: 0.0130 - accuracy: 0.9960 - val_loss: 0.2133 - val_accuracy: 0.9525\n",
            "\n",
            "Epoch 00092: val_loss did not improve from 0.16689\n",
            "Epoch 93/100\n",
            "13/13 [==============================] - 1s 42ms/step - loss: 0.0072 - accuracy: 0.9984 - val_loss: 0.2029 - val_accuracy: 0.9525\n",
            "\n",
            "Epoch 00093: val_loss did not improve from 0.16689\n",
            "Epoch 94/100\n",
            "13/13 [==============================] - 1s 43ms/step - loss: 0.0092 - accuracy: 0.9989 - val_loss: 0.1991 - val_accuracy: 0.9466\n",
            "\n",
            "Epoch 00094: val_loss did not improve from 0.16689\n",
            "Epoch 95/100\n",
            "13/13 [==============================] - 1s 43ms/step - loss: 0.0084 - accuracy: 0.9975 - val_loss: 0.2098 - val_accuracy: 0.9466\n",
            "\n",
            "Epoch 00095: val_loss did not improve from 0.16689\n",
            "Epoch 96/100\n",
            "13/13 [==============================] - 1s 44ms/step - loss: 0.0112 - accuracy: 0.9997 - val_loss: 0.2145 - val_accuracy: 0.9555\n",
            "\n",
            "Epoch 00096: val_loss did not improve from 0.16689\n",
            "Epoch 97/100\n",
            "13/13 [==============================] - 1s 43ms/step - loss: 0.0097 - accuracy: 0.9978 - val_loss: 0.2129 - val_accuracy: 0.9525\n",
            "\n",
            "Epoch 00097: val_loss did not improve from 0.16689\n",
            "Epoch 98/100\n",
            "13/13 [==============================] - 1s 44ms/step - loss: 0.0096 - accuracy: 0.9977 - val_loss: 0.2094 - val_accuracy: 0.9525\n",
            "\n",
            "Epoch 00098: val_loss did not improve from 0.16689\n",
            "Epoch 99/100\n",
            "13/13 [==============================] - 1s 44ms/step - loss: 0.0070 - accuracy: 0.9989 - val_loss: 0.2122 - val_accuracy: 0.9496\n",
            "\n",
            "Epoch 00099: val_loss did not improve from 0.16689\n",
            "Epoch 100/100\n",
            "13/13 [==============================] - 1s 43ms/step - loss: 0.0083 - accuracy: 1.0000 - val_loss: 0.2157 - val_accuracy: 0.9525\n",
            "\n",
            "Epoch 00100: val_loss did not improve from 0.16689\n"
          ],
          "name": "stdout"
        }
      ]
    },
    {
      "cell_type": "code",
      "metadata": {
        "colab": {
          "base_uri": "https://localhost:8080/",
          "height": 863
        },
        "id": "6wU-6_61ZdKV",
        "outputId": "1839a45b-bbe2-4610-d630-38193014c504"
      },
      "source": [
        "# summarize history for accuracy\n",
        "plt.plot(history.history['accuracy'])\n",
        "plt.plot(history.history['val_accuracy'])\n",
        "plt.title('model accuracy')\n",
        "plt.ylabel('accuracy')\n",
        "plt.xlabel('epoch')\n",
        "plt.legend(['train', 'test'], loc='lower right')\n",
        "plt.show()\n",
        "# summarize history for loss\n",
        "plt.plot(history.history['loss'])\n",
        "plt.plot(history.history['val_loss'])\n",
        "plt.title('model loss')\n",
        "plt.ylabel('loss')\n",
        "plt.xlabel('epoch')\n",
        "plt.legend(['train', 'test'], loc='upper right')\n",
        "plt.show()\n",
        "# Accuracy history with loss\n",
        "plt.plot(history.history['accuracy'])\n",
        "plt.plot(history.history['loss'])\n",
        "plt.title('accuracy w.r.t Loss')\n",
        "plt.ylabel('accuracy')\n",
        "plt.xlabel('epoch')\n",
        "plt.legend(['acc', 'loss'], loc='upper right')\n",
        "plt.show()"
      ],
      "execution_count": null,
      "outputs": [
        {
          "output_type": "display_data",
          "data": {
            "image/png": "[encoded data removed]",
            "text/plain": [
              "<Figure size 432x288 with 1 Axes>"
            ]
          },
          "metadata": {
            "tags": []
          }
        },
        {
          "output_type": "display_data",
          "data": {
            "image/png": "[encoded data removed]",
            "text/plain": [
              "<Figure size 432x288 with 1 Axes>"
            ]
          },
          "metadata": {
            "tags": []
          }
        },
        {
          "output_type": "display_data",
          "data": {
            "image/png": "[encoded data removed]",
            "text/plain": [
              "<Figure size 432x288 with 1 Axes>"
            ]
          },
          "metadata": {
            "tags": []
          }
        }
      ]
    },
    {
      "cell_type": "code",
      "metadata": {
        "colab": {
          "base_uri": "https://localhost:8080/",
          "height": 535
        },
        "id": "EUYJDHMnfJZW",
        "outputId": "9ee756e2-00cb-486a-9163-be3c6d82ee0f"
      },
      "source": [
        "# plot the training loss and accuracy\n",
        "N = np.arange(0, 100)\n",
        "plt.style.use(\"ggplot\")\n",
        "plt.figure(figsize=(8, 6),dpi=96)\n",
        "plt.plot(N, history.history[\"loss\"], label=\"train_loss\")\n",
        "plt.plot(N, history.history[\"val_loss\"], label=\"val_loss\")\n",
        "plt.plot(N, history.history[\"accuracy\"], label=\"train_acc\")\n",
        "plt.plot(N, history.history[\"val_accuracy\"], label=\"val_acc\")\n",
        "plt.title(\"Training Loss and Accuracy on Dataset\")\n",
        "plt.xlabel(\"Epoch #\")\n",
        "plt.ylabel(\"Loss/Accuracy\")\n",
        "plt.legend(loc=\"upper right\")\n",
        "plt.show()"
      ],
      "execution_count": null,
      "outputs": [
        {
          "output_type": "display_data",
          "data": {
            "image/png": "[encoded data removed]",
            "text/plain": [
              "<Figure size 768x576 with 1 Axes>"
            ]
          },
          "metadata": {
            "tags": []
          }
        }
      ]
    },
    {
      "cell_type": "code",
      "metadata": {
        "id": "_A2liOVUZ0le"
      },
      "source": [
        "# load the weights that yielded the best validation accuracy\n",
        "model_mnv2.load_weights('/content/drive/My Drive/Datasets/Weather_mnetv2.weights.best.hdf5')"
      ],
      "execution_count": null,
      "outputs": []
    },
    {
      "cell_type": "code",
      "metadata": {
        "colab": {
          "base_uri": "https://localhost:8080/"
        },
        "id": "TD4fCLMMaxzN",
        "outputId": "af6fbaed-d840-4ec1-d7c9-dbcaa467b1f6"
      },
      "source": [
        "# Evaluate the model w.r.t Train Loss and Train Accuracy\n",
        "score = model_mnv2.evaluate(X_train, y_train, verbose=1)\n",
        "\n",
        "print('Train Loss:{:.3f}%'.format(score[0]*100))\n",
        "\n",
        "print('Train accuracy:{:.3f}%'.format(score[1]*100))\n",
        "# Evaluate the model w.r.t Test Loss and Test Accuracy\n",
        "score = model_mnv2.evaluate(X_test, y_test, verbose=1)\n",
        "print('Test Loss:{:.3f}%'.format(score[0]*100))\n",
        "\n",
        "print('Test accuracy:{:.3f}%'.format(score[1]*100))\n"
      ],
      "execution_count": null,
      "outputs": [
        {
          "output_type": "stream",
          "text": [
            "25/25 [==============================] - 1s 16ms/step - loss: 0.0016 - accuracy: 1.0000\n",
            "Train Loss:0.159%\n",
            "Train accuracy:100.000%\n",
            "11/11 [==============================] - 0s 15ms/step - loss: 0.1669 - accuracy: 0.9466\n",
            "Test Loss:16.689%\n",
            "Test accuracy:94.659%\n"
          ],
          "name": "stdout"
        }
      ]
    },
    {
      "cell_type": "code",
      "metadata": {
        "id": "TpS1Td0Cb19P"
      },
      "source": [
        "y_pred = model_mnv2.predict(X_test)"
      ],
      "execution_count": null,
      "outputs": []
    },
    {
      "cell_type": "code",
      "metadata": {
        "colab": {
          "base_uri": "https://localhost:8080/"
        },
        "id": "ThtWzYSFbGCw",
        "outputId": "2432038b-0c3f-4f6f-af64-751e12452a83"
      },
      "source": [
        "print(classification_report(np.argmax(y_test,axis=-1),np.argmax(y_pred,axis=-1),target_names=names))"
      ],
      "execution_count": null,
      "outputs": [
        {
          "output_type": "stream",
          "text": [
            "              precision    recall  f1-score   support\n",
            "\n",
            "      Cloudy       0.94      0.88      0.91        91\n",
            "        Rain       0.98      1.00      0.99        58\n",
            "       Shine       0.90      0.93      0.92        75\n",
            "     Sunrise       0.97      0.98      0.97       113\n",
            "\n",
            "    accuracy                           0.95       337\n",
            "   macro avg       0.95      0.95      0.95       337\n",
            "weighted avg       0.95      0.95      0.95       337\n",
            "\n"
          ],
          "name": "stdout"
        }
      ]
    },
    {
      "cell_type": "code",
      "metadata": {
        "colab": {
          "base_uri": "https://localhost:8080/",
          "height": 412
        },
        "id": "HfURRiNXbV3y",
        "outputId": "168bd7b3-87e9-4af9-ba56-d93b7ec55fb2"
      },
      "source": [
        "model_accuracy = score[1]\n",
        "import pandas as pd\n",
        "import seaborn as sns\n",
        "cm = confusion_matrix(np.argmax(y_test,axis=-1),np.argmax(y_pred,axis=-1))\n",
        "cm_df = pd.DataFrame(cm,\n",
        "index = ['Cloudy','Rain','Shine','Sunrise' ],\n",
        "columns = ['Cloudy','Rain','Shine','Sunrise'])\n",
        "plt.figure(figsize=(4,3),dpi=96)\n",
        "sns.heatmap(cm_df, annot=True,cmap='YlGnBu',fmt='g')\n",
        "plt.title('Weather Recogniton Mobilenetv2 \\n Accuray ={0:.3f}% '.format(model_accuracy*100))\n",
        "plt.ylabel('True label')\n",
        "plt.xlabel('Predicted label')\n",
        "plt.show()\n",
        "print(cm)"
      ],
      "execution_count": null,
      "outputs": [
        {
          "output_type": "display_data",
          "data": {
            "image/png": "[encoded data removed]",
            "text/plain": [
              "<Figure size 384x288 with 2 Axes>"
            ]
          },
          "metadata": {
            "tags": []
          }
        },
        {
          "output_type": "stream",
          "text": [
            "[[ 80   1   7   3]\n",
            " [  0  58   0   0]\n",
            " [  4   0  70   1]\n",
            " [  1   0   1 111]]\n"
          ],
          "name": "stdout"
        }
      ]
    },
    {
      "cell_type": "markdown",
      "metadata": {
        "id": "Gku-pIr5dCfv"
      },
      "source": [
        "## VGG19 Model trained with imagenet weights"
      ]
    },
    {
      "cell_type": "code",
      "metadata": {
        "colab": {
          "base_uri": "https://localhost:8080/"
        },
        "id": "vr1Mf5AGbcjc",
        "outputId": "1c85e9ea-8f6c-4439-8c1b-148f63b47c5d"
      },
      "source": [
        "from keras.applications import vgg19\n",
        "from keras.models import Model\n",
        "import keras\n",
        "\n",
        "vgg = vgg19.VGG19(include_top=False, weights='imagenet',input_shape=(128,128,3))\n",
        "\n",
        "output = vgg.layers[-1].output\n",
        "output = keras.layers.Flatten()(output)\n",
        "\n",
        "vgg_model = Model(vgg.input, output)\n",
        "vgg_model.trainable = False\n",
        "\n",
        "for layer in vgg_model.layers:\n",
        "    layer.trainable = False\n",
        "\n",
        "vgg_model.summary()"
      ],
      "execution_count": null,
      "outputs": [
        {
          "output_type": "stream",
          "text": [
            "Model: \"model_1\"\n",
            "_________________________________________________________________\n",
            "Layer (type)                 Output Shape              Param #   \n",
            "=================================================================\n",
            "input_2 (InputLayer)         [(None, 128, 128, 3)]     0         \n",
            "_________________________________________________________________\n",
            "block1_conv1 (Conv2D)        (None, 128, 128, 64)      1792      \n",
            "_________________________________________________________________\n",
            "block1_conv2 (Conv2D)        (None, 128, 128, 64)      36928     \n",
            "_________________________________________________________________\n",
            "block1_pool (MaxPooling2D)   (None, 64, 64, 64)        0         \n",
            "_________________________________________________________________\n",
            "block2_conv1 (Conv2D)        (None, 64, 64, 128)       73856     \n",
            "_________________________________________________________________\n",
            "block2_conv2 (Conv2D)        (None, 64, 64, 128)       147584    \n",
            "_________________________________________________________________\n",
            "block2_pool (MaxPooling2D)   (None, 32, 32, 128)       0         \n",
            "_________________________________________________________________\n",
            "block3_conv1 (Conv2D)        (None, 32, 32, 256)       295168    \n",
            "_________________________________________________________________\n",
            "block3_conv2 (Conv2D)        (None, 32, 32, 256)       590080    \n",
            "_________________________________________________________________\n",
            "block3_conv3 (Conv2D)        (None, 32, 32, 256)       590080    \n",
            "_________________________________________________________________\n",
            "block3_conv4 (Conv2D)        (None, 32, 32, 256)       590080    \n",
            "_________________________________________________________________\n",
            "block3_pool (MaxPooling2D)   (None, 16, 16, 256)       0         \n",
            "_________________________________________________________________\n",
            "block4_conv1 (Conv2D)        (None, 16, 16, 512)       1180160   \n",
            "_________________________________________________________________\n",
            "block4_conv2 (Conv2D)        (None, 16, 16, 512)       2359808   \n",
            "_________________________________________________________________\n",
            "block4_conv3 (Conv2D)        (None, 16, 16, 512)       2359808   \n",
            "_________________________________________________________________\n",
            "block4_conv4 (Conv2D)        (None, 16, 16, 512)       2359808   \n",
            "_________________________________________________________________\n",
            "block4_pool (MaxPooling2D)   (None, 8, 8, 512)         0         \n",
            "_________________________________________________________________\n",
            "block5_conv1 (Conv2D)        (None, 8, 8, 512)         2359808   \n",
            "_________________________________________________________________\n",
            "block5_conv2 (Conv2D)        (None, 8, 8, 512)         2359808   \n",
            "_________________________________________________________________\n",
            "block5_conv3 (Conv2D)        (None, 8, 8, 512)         2359808   \n",
            "_________________________________________________________________\n",
            "block5_conv4 (Conv2D)        (None, 8, 8, 512)         2359808   \n",
            "_________________________________________________________________\n",
            "block5_pool (MaxPooling2D)   (None, 4, 4, 512)         0         \n",
            "_________________________________________________________________\n",
            "flatten_2 (Flatten)          (None, 8192)              0         \n",
            "=================================================================\n",
            "Total params: 20,024,384\n",
            "Trainable params: 0\n",
            "Non-trainable params: 20,024,384\n",
            "_________________________________________________________________\n"
          ],
          "name": "stdout"
        }
      ]
    },
    {
      "cell_type": "markdown",
      "metadata": {
        "id": "kL7hvwlqi8TK"
      },
      "source": [
        "## Checking the status of Trainable Layers"
      ]
    },
    {
      "cell_type": "code",
      "metadata": {
        "colab": {
          "base_uri": "https://localhost:8080/",
          "height": 737
        },
        "id": "8_xtysNHdhL3",
        "outputId": "91675328-ca25-48a9-9533-1427334ba63c"
      },
      "source": [
        "vgg_model.output_shape[1]\n",
        "import pandas as pd\n",
        "pd.set_option('max_colwidth',None)\n",
        "\n",
        "layers = [(layer, layer.name, layer.trainable) for layer in vgg_model.layers]\n",
        "pd.DataFrame(layers, columns=['Layer Type', 'Layer Name', 'Layer Trainable'])"
      ],
      "execution_count": null,
      "outputs": [
        {
          "output_type": "execute_result",
          "data": {
            "text/html": [
              "<div>\n",
              "<style scoped>\n",
              "    .dataframe tbody tr th:only-of-type {\n",
              "        vertical-align: middle;\n",
              "    }\n",
              "\n",
              "    .dataframe tbody tr th {\n",
              "        vertical-align: top;\n",
              "    }\n",
              "\n",
              "    .dataframe thead th {\n",
              "        text-align: right;\n",
              "    }\n",
              "</style>\n",
              "<table border=\"1\" class=\"dataframe\">\n",
              "  <thead>\n",
              "    <tr style=\"text-align: right;\">\n",
              "      <th></th>\n",
              "      <th>Layer Type</th>\n",
              "      <th>Layer Name</th>\n",
              "      <th>Layer Trainable</th>\n",
              "    </tr>\n",
              "  </thead>\n",
              "  <tbody>\n",
              "    <tr>\n",
              "      <th>0</th>\n",
              "      <td>&lt;tensorflow.python.keras.engine.input_layer.InputLayer object at 0x7fcfc7afb208&gt;</td>\n",
              "      <td>input_2</td>\n",
              "      <td>False</td>\n",
              "    </tr>\n",
              "    <tr>\n",
              "      <th>1</th>\n",
              "      <td>&lt;tensorflow.python.keras.layers.convolutional.Conv2D object at 0x7fd11a43c908&gt;</td>\n",
              "      <td>block1_conv1</td>\n",
              "      <td>False</td>\n",
              "    </tr>\n",
              "    <tr>\n",
              "      <th>2</th>\n",
              "      <td>&lt;tensorflow.python.keras.layers.convolutional.Conv2D object at 0x7fcfc7afb3c8&gt;</td>\n",
              "      <td>block1_conv2</td>\n",
              "      <td>False</td>\n",
              "    </tr>\n",
              "    <tr>\n",
              "      <th>3</th>\n",
              "      <td>&lt;tensorflow.python.keras.layers.pooling.MaxPooling2D object at 0x7fcfc7a1d278&gt;</td>\n",
              "      <td>block1_pool</td>\n",
              "      <td>False</td>\n",
              "    </tr>\n",
              "    <tr>\n",
              "      <th>4</th>\n",
              "      <td>&lt;tensorflow.python.keras.layers.convolutional.Conv2D object at 0x7fcfc7a1d1d0&gt;</td>\n",
              "      <td>block2_conv1</td>\n",
              "      <td>False</td>\n",
              "    </tr>\n",
              "    <tr>\n",
              "      <th>5</th>\n",
              "      <td>&lt;tensorflow.python.keras.layers.convolutional.Conv2D object at 0x7fd180104f60&gt;</td>\n",
              "      <td>block2_conv2</td>\n",
              "      <td>False</td>\n",
              "    </tr>\n",
              "    <tr>\n",
              "      <th>6</th>\n",
              "      <td>&lt;tensorflow.python.keras.layers.pooling.MaxPooling2D object at 0x7fcfc7a35ac8&gt;</td>\n",
              "      <td>block2_pool</td>\n",
              "      <td>False</td>\n",
              "    </tr>\n",
              "    <tr>\n",
              "      <th>7</th>\n",
              "      <td>&lt;tensorflow.python.keras.layers.convolutional.Conv2D object at 0x7fcfc7ce1978&gt;</td>\n",
              "      <td>block3_conv1</td>\n",
              "      <td>False</td>\n",
              "    </tr>\n",
              "    <tr>\n",
              "      <th>8</th>\n",
              "      <td>&lt;tensorflow.python.keras.layers.convolutional.Conv2D object at 0x7fcfc7c4ed30&gt;</td>\n",
              "      <td>block3_conv2</td>\n",
              "      <td>False</td>\n",
              "    </tr>\n",
              "    <tr>\n",
              "      <th>9</th>\n",
              "      <td>&lt;tensorflow.python.keras.layers.convolutional.Conv2D object at 0x7fcfc7a7c0f0&gt;</td>\n",
              "      <td>block3_conv3</td>\n",
              "      <td>False</td>\n",
              "    </tr>\n",
              "    <tr>\n",
              "      <th>10</th>\n",
              "      <td>&lt;tensorflow.python.keras.layers.convolutional.Conv2D object at 0x7fcfc79c47b8&gt;</td>\n",
              "      <td>block3_conv4</td>\n",
              "      <td>False</td>\n",
              "    </tr>\n",
              "    <tr>\n",
              "      <th>11</th>\n",
              "      <td>&lt;tensorflow.python.keras.layers.pooling.MaxPooling2D object at 0x7fcfc79bcd30&gt;</td>\n",
              "      <td>block3_pool</td>\n",
              "      <td>False</td>\n",
              "    </tr>\n",
              "    <tr>\n",
              "      <th>12</th>\n",
              "      <td>&lt;tensorflow.python.keras.layers.convolutional.Conv2D object at 0x7fcfc7a76c18&gt;</td>\n",
              "      <td>block4_conv1</td>\n",
              "      <td>False</td>\n",
              "    </tr>\n",
              "    <tr>\n",
              "      <th>13</th>\n",
              "      <td>&lt;tensorflow.python.keras.layers.convolutional.Conv2D object at 0x7fcfc79bcfd0&gt;</td>\n",
              "      <td>block4_conv2</td>\n",
              "      <td>False</td>\n",
              "    </tr>\n",
              "    <tr>\n",
              "      <th>14</th>\n",
              "      <td>&lt;tensorflow.python.keras.layers.convolutional.Conv2D object at 0x7fcfc79d4550&gt;</td>\n",
              "      <td>block4_conv3</td>\n",
              "      <td>False</td>\n",
              "    </tr>\n",
              "    <tr>\n",
              "      <th>15</th>\n",
              "      <td>&lt;tensorflow.python.keras.layers.convolutional.Conv2D object at 0x7fcfc79c4748&gt;</td>\n",
              "      <td>block4_conv4</td>\n",
              "      <td>False</td>\n",
              "    </tr>\n",
              "    <tr>\n",
              "      <th>16</th>\n",
              "      <td>&lt;tensorflow.python.keras.layers.pooling.MaxPooling2D object at 0x7fcfc79e30b8&gt;</td>\n",
              "      <td>block4_pool</td>\n",
              "      <td>False</td>\n",
              "    </tr>\n",
              "    <tr>\n",
              "      <th>17</th>\n",
              "      <td>&lt;tensorflow.python.keras.layers.convolutional.Conv2D object at 0x7fcfc79cac50&gt;</td>\n",
              "      <td>block5_conv1</td>\n",
              "      <td>False</td>\n",
              "    </tr>\n",
              "    <tr>\n",
              "      <th>18</th>\n",
              "      <td>&lt;tensorflow.python.keras.layers.convolutional.Conv2D object at 0x7fcfc7a11c18&gt;</td>\n",
              "      <td>block5_conv2</td>\n",
              "      <td>False</td>\n",
              "    </tr>\n",
              "    <tr>\n",
              "      <th>19</th>\n",
              "      <td>&lt;tensorflow.python.keras.layers.convolutional.Conv2D object at 0x7fcfc7a11cf8&gt;</td>\n",
              "      <td>block5_conv3</td>\n",
              "      <td>False</td>\n",
              "    </tr>\n",
              "    <tr>\n",
              "      <th>20</th>\n",
              "      <td>&lt;tensorflow.python.keras.layers.convolutional.Conv2D object at 0x7fcfc79db9b0&gt;</td>\n",
              "      <td>block5_conv4</td>\n",
              "      <td>False</td>\n",
              "    </tr>\n",
              "    <tr>\n",
              "      <th>21</th>\n",
              "      <td>&lt;tensorflow.python.keras.layers.pooling.MaxPooling2D object at 0x7fcfc79f13c8&gt;</td>\n",
              "      <td>block5_pool</td>\n",
              "      <td>False</td>\n",
              "    </tr>\n",
              "    <tr>\n",
              "      <th>22</th>\n",
              "      <td>&lt;tensorflow.python.keras.layers.core.Flatten object at 0x7fd11e03a0f0&gt;</td>\n",
              "      <td>flatten_2</td>\n",
              "      <td>False</td>\n",
              "    </tr>\n",
              "  </tbody>\n",
              "</table>\n",
              "</div>"
            ],
            "text/plain": [
              "                                                                          Layer Type  ... Layer Trainable\n",
              "0   <tensorflow.python.keras.engine.input_layer.InputLayer object at 0x7fcfc7afb208>  ...           False\n",
              "1     <tensorflow.python.keras.layers.convolutional.Conv2D object at 0x7fd11a43c908>  ...           False\n",
              "2     <tensorflow.python.keras.layers.convolutional.Conv2D object at 0x7fcfc7afb3c8>  ...           False\n",
              "3     <tensorflow.python.keras.layers.pooling.MaxPooling2D object at 0x7fcfc7a1d278>  ...           False\n",
              "4     <tensorflow.python.keras.layers.convolutional.Conv2D object at 0x7fcfc7a1d1d0>  ...           False\n",
              "5     <tensorflow.python.keras.layers.convolutional.Conv2D object at 0x7fd180104f60>  ...           False\n",
              "6     <tensorflow.python.keras.layers.pooling.MaxPooling2D object at 0x7fcfc7a35ac8>  ...           False\n",
              "7     <tensorflow.python.keras.layers.convolutional.Conv2D object at 0x7fcfc7ce1978>  ...           False\n",
              "8     <tensorflow.python.keras.layers.convolutional.Conv2D object at 0x7fcfc7c4ed30>  ...           False\n",
              "9     <tensorflow.python.keras.layers.convolutional.Conv2D object at 0x7fcfc7a7c0f0>  ...           False\n",
              "10    <tensorflow.python.keras.layers.convolutional.Conv2D object at 0x7fcfc79c47b8>  ...           False\n",
              "11    <tensorflow.python.keras.layers.pooling.MaxPooling2D object at 0x7fcfc79bcd30>  ...           False\n",
              "12    <tensorflow.python.keras.layers.convolutional.Conv2D object at 0x7fcfc7a76c18>  ...           False\n",
              "13    <tensorflow.python.keras.layers.convolutional.Conv2D object at 0x7fcfc79bcfd0>  ...           False\n",
              "14    <tensorflow.python.keras.layers.convolutional.Conv2D object at 0x7fcfc79d4550>  ...           False\n",
              "15    <tensorflow.python.keras.layers.convolutional.Conv2D object at 0x7fcfc79c4748>  ...           False\n",
              "16    <tensorflow.python.keras.layers.pooling.MaxPooling2D object at 0x7fcfc79e30b8>  ...           False\n",
              "17    <tensorflow.python.keras.layers.convolutional.Conv2D object at 0x7fcfc79cac50>  ...           False\n",
              "18    <tensorflow.python.keras.layers.convolutional.Conv2D object at 0x7fcfc7a11c18>  ...           False\n",
              "19    <tensorflow.python.keras.layers.convolutional.Conv2D object at 0x7fcfc7a11cf8>  ...           False\n",
              "20    <tensorflow.python.keras.layers.convolutional.Conv2D object at 0x7fcfc79db9b0>  ...           False\n",
              "21    <tensorflow.python.keras.layers.pooling.MaxPooling2D object at 0x7fcfc79f13c8>  ...           False\n",
              "22            <tensorflow.python.keras.layers.core.Flatten object at 0x7fd11e03a0f0>  ...           False\n",
              "\n",
              "[23 rows x 3 columns]"
            ]
          },
          "metadata": {
            "tags": []
          },
          "execution_count": 35
        }
      ]
    },
    {
      "cell_type": "markdown",
      "metadata": {
        "id": "UZDpWxikmNuT"
      },
      "source": [
        "## Customizing the Model as Per Our Requirement"
      ]
    },
    {
      "cell_type": "code",
      "metadata": {
        "colab": {
          "base_uri": "https://localhost:8080/"
        },
        "id": "oxQ4dG-0dubq",
        "outputId": "23ca5f22-eb9c-4a34-f636-a76d10ea072d"
      },
      "source": [
        "input_shape = vgg_model.output_shape[1]\n",
        "model_vgg = Sequential()\n",
        "model_vgg.add(vgg_model)\n",
        "model_vgg.add(Dense(16, activation='relu', input_dim=input_shape))\n",
        "model_vgg.add(Dropout(0.2))\n",
        "model_vgg.add(Dense(4, activation='softmax'))\n",
        "learning_rate = 0.0001\n",
        "opt = Adam(lr=learning_rate)\n",
        "model_vgg.compile(optimizer=opt,loss='categorical_crossentropy',metrics=['accuracy'])\n",
        "\n",
        "model_vgg.summary()"
      ],
      "execution_count": null,
      "outputs": [
        {
          "output_type": "stream",
          "text": [
            "Model: \"sequential_2\"\n",
            "_________________________________________________________________\n",
            "Layer (type)                 Output Shape              Param #   \n",
            "=================================================================\n",
            "model_1 (Functional)         (None, 8192)              20024384  \n",
            "_________________________________________________________________\n",
            "dense_2 (Dense)              (None, 16)                131088    \n",
            "_________________________________________________________________\n",
            "dropout_4 (Dropout)          (None, 16)                0         \n",
            "_________________________________________________________________\n",
            "dense_3 (Dense)              (None, 4)                 68        \n",
            "=================================================================\n",
            "Total params: 20,155,540\n",
            "Trainable params: 131,156\n",
            "Non-trainable params: 20,024,384\n",
            "_________________________________________________________________\n"
          ],
          "name": "stdout"
        }
      ]
    },
    {
      "cell_type": "code",
      "metadata": {
        "colab": {
          "base_uri": "https://localhost:8080/"
        },
        "id": "0Ps0z20ReAT1",
        "outputId": "04d80585-3d9a-4d69-8bbe-4066a814da84"
      },
      "source": [
        "checkpointer = ModelCheckpoint(filepath='/content/drive/My Drive/Datasets/Weather_vgg19.weights.best.hdf5', verbose=1,save_best_only=True)\n",
        "history = model_vgg.fit(X_train, y_train, batch_size=64, epochs=100, validation_data=(X_test, y_test), verbose=True,callbacks=[checkpointer])"
      ],
      "execution_count": null,
      "outputs": [
        {
          "output_type": "stream",
          "text": [
            "Epoch 1/100\n",
            "13/13 [==============================] - 5s 243ms/step - loss: 1.5756 - accuracy: 0.2270 - val_loss: 1.2518 - val_accuracy: 0.5163\n",
            "\n",
            "Epoch 00001: val_loss improved from inf to 1.25184, saving model to /content/drive/My Drive/Datasets/Weather_vgg19.weights.best.hdf5\n",
            "Epoch 2/100\n",
            "13/13 [==============================] - 2s 143ms/step - loss: 1.3007 - accuracy: 0.3707 - val_loss: 1.0992 - val_accuracy: 0.5816\n",
            "\n",
            "Epoch 00002: val_loss improved from 1.25184 to 1.09924, saving model to /content/drive/My Drive/Datasets/Weather_vgg19.weights.best.hdf5\n",
            "Epoch 3/100\n",
            "13/13 [==============================] - 2s 144ms/step - loss: 1.1016 - accuracy: 0.5637 - val_loss: 0.9758 - val_accuracy: 0.7211\n",
            "\n",
            "Epoch 00003: val_loss improved from 1.09924 to 0.97578, saving model to /content/drive/My Drive/Datasets/Weather_vgg19.weights.best.hdf5\n",
            "Epoch 4/100\n",
            "13/13 [==============================] - 2s 145ms/step - loss: 0.9973 - accuracy: 0.6444 - val_loss: 0.8782 - val_accuracy: 0.7300\n",
            "\n",
            "Epoch 00004: val_loss improved from 0.97578 to 0.87823, saving model to /content/drive/My Drive/Datasets/Weather_vgg19.weights.best.hdf5\n",
            "Epoch 5/100\n",
            "13/13 [==============================] - 2s 143ms/step - loss: 0.8789 - accuracy: 0.6819 - val_loss: 0.8032 - val_accuracy: 0.7715\n",
            "\n",
            "Epoch 00005: val_loss improved from 0.87823 to 0.80318, saving model to /content/drive/My Drive/Datasets/Weather_vgg19.weights.best.hdf5\n",
            "Epoch 6/100\n",
            "13/13 [==============================] - 2s 144ms/step - loss: 0.8321 - accuracy: 0.7140 - val_loss: 0.7453 - val_accuracy: 0.7685\n",
            "\n",
            "Epoch 00006: val_loss improved from 0.80318 to 0.74529, saving model to /content/drive/My Drive/Datasets/Weather_vgg19.weights.best.hdf5\n",
            "Epoch 7/100\n",
            "13/13 [==============================] - 2s 146ms/step - loss: 0.7334 - accuracy: 0.7754 - val_loss: 0.6909 - val_accuracy: 0.8398\n",
            "\n",
            "Epoch 00007: val_loss improved from 0.74529 to 0.69088, saving model to /content/drive/My Drive/Datasets/Weather_vgg19.weights.best.hdf5\n",
            "Epoch 8/100\n",
            "13/13 [==============================] - 2s 145ms/step - loss: 0.6742 - accuracy: 0.7942 - val_loss: 0.6498 - val_accuracy: 0.7982\n",
            "\n",
            "Epoch 00008: val_loss improved from 0.69088 to 0.64981, saving model to /content/drive/My Drive/Datasets/Weather_vgg19.weights.best.hdf5\n",
            "Epoch 9/100\n",
            "13/13 [==============================] - 2s 146ms/step - loss: 0.6735 - accuracy: 0.7630 - val_loss: 0.6105 - val_accuracy: 0.8576\n",
            "\n",
            "Epoch 00009: val_loss improved from 0.64981 to 0.61054, saving model to /content/drive/My Drive/Datasets/Weather_vgg19.weights.best.hdf5\n",
            "Epoch 10/100\n",
            "13/13 [==============================] - 2s 147ms/step - loss: 0.5905 - accuracy: 0.8418 - val_loss: 0.5724 - val_accuracy: 0.8576\n",
            "\n",
            "Epoch 00010: val_loss improved from 0.61054 to 0.57240, saving model to /content/drive/My Drive/Datasets/Weather_vgg19.weights.best.hdf5\n",
            "Epoch 11/100\n",
            "13/13 [==============================] - 2s 147ms/step - loss: 0.5572 - accuracy: 0.8300 - val_loss: 0.5441 - val_accuracy: 0.8872\n",
            "\n",
            "Epoch 00011: val_loss improved from 0.57240 to 0.54414, saving model to /content/drive/My Drive/Datasets/Weather_vgg19.weights.best.hdf5\n",
            "Epoch 12/100\n",
            "13/13 [==============================] - 2s 147ms/step - loss: 0.5553 - accuracy: 0.8167 - val_loss: 0.5206 - val_accuracy: 0.8843\n",
            "\n",
            "Epoch 00012: val_loss improved from 0.54414 to 0.52059, saving model to /content/drive/My Drive/Datasets/Weather_vgg19.weights.best.hdf5\n",
            "Epoch 13/100\n",
            "13/13 [==============================] - 2s 148ms/step - loss: 0.5269 - accuracy: 0.8422 - val_loss: 0.4958 - val_accuracy: 0.8902\n",
            "\n",
            "Epoch 00013: val_loss improved from 0.52059 to 0.49584, saving model to /content/drive/My Drive/Datasets/Weather_vgg19.weights.best.hdf5\n",
            "Epoch 14/100\n",
            "13/13 [==============================] - 2s 147ms/step - loss: 0.4940 - accuracy: 0.8573 - val_loss: 0.4806 - val_accuracy: 0.8813\n",
            "\n",
            "Epoch 00014: val_loss improved from 0.49584 to 0.48058, saving model to /content/drive/My Drive/Datasets/Weather_vgg19.weights.best.hdf5\n",
            "Epoch 15/100\n",
            "13/13 [==============================] - 2s 148ms/step - loss: 0.4567 - accuracy: 0.8690 - val_loss: 0.4541 - val_accuracy: 0.8872\n",
            "\n",
            "Epoch 00015: val_loss improved from 0.48058 to 0.45409, saving model to /content/drive/My Drive/Datasets/Weather_vgg19.weights.best.hdf5\n",
            "Epoch 16/100\n",
            "13/13 [==============================] - 2s 147ms/step - loss: 0.4341 - accuracy: 0.8808 - val_loss: 0.4443 - val_accuracy: 0.8991\n",
            "\n",
            "Epoch 00016: val_loss improved from 0.45409 to 0.44426, saving model to /content/drive/My Drive/Datasets/Weather_vgg19.weights.best.hdf5\n",
            "Epoch 17/100\n",
            "13/13 [==============================] - 2s 146ms/step - loss: 0.4604 - accuracy: 0.8585 - val_loss: 0.4319 - val_accuracy: 0.8932\n",
            "\n",
            "Epoch 00017: val_loss improved from 0.44426 to 0.43189, saving model to /content/drive/My Drive/Datasets/Weather_vgg19.weights.best.hdf5\n",
            "Epoch 18/100\n",
            "13/13 [==============================] - 2s 145ms/step - loss: 0.4256 - accuracy: 0.8818 - val_loss: 0.4237 - val_accuracy: 0.8932\n",
            "\n",
            "Epoch 00018: val_loss improved from 0.43189 to 0.42373, saving model to /content/drive/My Drive/Datasets/Weather_vgg19.weights.best.hdf5\n",
            "Epoch 19/100\n",
            "13/13 [==============================] - 2s 145ms/step - loss: 0.4011 - accuracy: 0.8793 - val_loss: 0.4100 - val_accuracy: 0.9050\n",
            "\n",
            "Epoch 00019: val_loss improved from 0.42373 to 0.41004, saving model to /content/drive/My Drive/Datasets/Weather_vgg19.weights.best.hdf5\n",
            "Epoch 20/100\n",
            "13/13 [==============================] - 2s 146ms/step - loss: 0.3662 - accuracy: 0.8879 - val_loss: 0.4011 - val_accuracy: 0.9021\n",
            "\n",
            "Epoch 00020: val_loss improved from 0.41004 to 0.40110, saving model to /content/drive/My Drive/Datasets/Weather_vgg19.weights.best.hdf5\n",
            "Epoch 21/100\n",
            "13/13 [==============================] - 2s 144ms/step - loss: 0.3744 - accuracy: 0.8944 - val_loss: 0.3914 - val_accuracy: 0.8991\n",
            "\n",
            "Epoch 00021: val_loss improved from 0.40110 to 0.39136, saving model to /content/drive/My Drive/Datasets/Weather_vgg19.weights.best.hdf5\n",
            "Epoch 22/100\n",
            "13/13 [==============================] - 2s 146ms/step - loss: 0.4014 - accuracy: 0.8722 - val_loss: 0.3825 - val_accuracy: 0.9080\n",
            "\n",
            "Epoch 00022: val_loss improved from 0.39136 to 0.38252, saving model to /content/drive/My Drive/Datasets/Weather_vgg19.weights.best.hdf5\n",
            "Epoch 23/100\n",
            "13/13 [==============================] - 2s 146ms/step - loss: 0.3558 - accuracy: 0.8862 - val_loss: 0.3727 - val_accuracy: 0.9021\n",
            "\n",
            "Epoch 00023: val_loss improved from 0.38252 to 0.37273, saving model to /content/drive/My Drive/Datasets/Weather_vgg19.weights.best.hdf5\n",
            "Epoch 24/100\n",
            "13/13 [==============================] - 2s 145ms/step - loss: 0.3482 - accuracy: 0.8898 - val_loss: 0.3653 - val_accuracy: 0.9110\n",
            "\n",
            "Epoch 00024: val_loss improved from 0.37273 to 0.36526, saving model to /content/drive/My Drive/Datasets/Weather_vgg19.weights.best.hdf5\n",
            "Epoch 25/100\n",
            "13/13 [==============================] - 2s 145ms/step - loss: 0.3500 - accuracy: 0.8977 - val_loss: 0.3609 - val_accuracy: 0.9050\n",
            "\n",
            "Epoch 00025: val_loss improved from 0.36526 to 0.36094, saving model to /content/drive/My Drive/Datasets/Weather_vgg19.weights.best.hdf5\n",
            "Epoch 26/100\n",
            "13/13 [==============================] - 2s 145ms/step - loss: 0.3408 - accuracy: 0.8937 - val_loss: 0.3532 - val_accuracy: 0.9110\n",
            "\n",
            "Epoch 00026: val_loss improved from 0.36094 to 0.35320, saving model to /content/drive/My Drive/Datasets/Weather_vgg19.weights.best.hdf5\n",
            "Epoch 27/100\n",
            "13/13 [==============================] - 2s 145ms/step - loss: 0.3272 - accuracy: 0.9076 - val_loss: 0.3458 - val_accuracy: 0.9110\n",
            "\n",
            "Epoch 00027: val_loss improved from 0.35320 to 0.34580, saving model to /content/drive/My Drive/Datasets/Weather_vgg19.weights.best.hdf5\n",
            "Epoch 28/100\n",
            "13/13 [==============================] - 2s 146ms/step - loss: 0.3264 - accuracy: 0.9124 - val_loss: 0.3392 - val_accuracy: 0.9110\n",
            "\n",
            "Epoch 00028: val_loss improved from 0.34580 to 0.33924, saving model to /content/drive/My Drive/Datasets/Weather_vgg19.weights.best.hdf5\n",
            "Epoch 29/100\n",
            "13/13 [==============================] - 2s 145ms/step - loss: 0.3191 - accuracy: 0.9092 - val_loss: 0.3350 - val_accuracy: 0.9139\n",
            "\n",
            "Epoch 00029: val_loss improved from 0.33924 to 0.33504, saving model to /content/drive/My Drive/Datasets/Weather_vgg19.weights.best.hdf5\n",
            "Epoch 30/100\n",
            "13/13 [==============================] - 2s 144ms/step - loss: 0.2982 - accuracy: 0.9166 - val_loss: 0.3307 - val_accuracy: 0.9110\n",
            "\n",
            "Epoch 00030: val_loss improved from 0.33504 to 0.33072, saving model to /content/drive/My Drive/Datasets/Weather_vgg19.weights.best.hdf5\n",
            "Epoch 31/100\n",
            "13/13 [==============================] - 2s 146ms/step - loss: 0.2517 - accuracy: 0.9387 - val_loss: 0.3234 - val_accuracy: 0.9080\n",
            "\n",
            "Epoch 00031: val_loss improved from 0.33072 to 0.32337, saving model to /content/drive/My Drive/Datasets/Weather_vgg19.weights.best.hdf5\n",
            "Epoch 32/100\n",
            "13/13 [==============================] - 2s 145ms/step - loss: 0.2824 - accuracy: 0.9158 - val_loss: 0.3198 - val_accuracy: 0.9139\n",
            "\n",
            "Epoch 00032: val_loss improved from 0.32337 to 0.31983, saving model to /content/drive/My Drive/Datasets/Weather_vgg19.weights.best.hdf5\n",
            "Epoch 33/100\n",
            "13/13 [==============================] - 2s 145ms/step - loss: 0.3102 - accuracy: 0.9002 - val_loss: 0.3187 - val_accuracy: 0.9139\n",
            "\n",
            "Epoch 00033: val_loss improved from 0.31983 to 0.31869, saving model to /content/drive/My Drive/Datasets/Weather_vgg19.weights.best.hdf5\n",
            "Epoch 34/100\n",
            "13/13 [==============================] - 2s 144ms/step - loss: 0.2632 - accuracy: 0.9462 - val_loss: 0.3104 - val_accuracy: 0.9169\n",
            "\n",
            "Epoch 00034: val_loss improved from 0.31869 to 0.31044, saving model to /content/drive/My Drive/Datasets/Weather_vgg19.weights.best.hdf5\n",
            "Epoch 35/100\n",
            "13/13 [==============================] - 2s 146ms/step - loss: 0.2827 - accuracy: 0.9200 - val_loss: 0.3051 - val_accuracy: 0.9169\n",
            "\n",
            "Epoch 00035: val_loss improved from 0.31044 to 0.30514, saving model to /content/drive/My Drive/Datasets/Weather_vgg19.weights.best.hdf5\n",
            "Epoch 36/100\n",
            "13/13 [==============================] - 2s 146ms/step - loss: 0.2719 - accuracy: 0.9328 - val_loss: 0.3016 - val_accuracy: 0.9139\n",
            "\n",
            "Epoch 00036: val_loss improved from 0.30514 to 0.30158, saving model to /content/drive/My Drive/Datasets/Weather_vgg19.weights.best.hdf5\n",
            "Epoch 37/100\n",
            "13/13 [==============================] - 2s 146ms/step - loss: 0.2720 - accuracy: 0.9306 - val_loss: 0.3006 - val_accuracy: 0.9199\n",
            "\n",
            "Epoch 00037: val_loss improved from 0.30158 to 0.30059, saving model to /content/drive/My Drive/Datasets/Weather_vgg19.weights.best.hdf5\n",
            "Epoch 38/100\n",
            "13/13 [==============================] - 2s 146ms/step - loss: 0.2684 - accuracy: 0.9246 - val_loss: 0.2979 - val_accuracy: 0.9110\n",
            "\n",
            "Epoch 00038: val_loss improved from 0.30059 to 0.29790, saving model to /content/drive/My Drive/Datasets/Weather_vgg19.weights.best.hdf5\n",
            "Epoch 39/100\n",
            "13/13 [==============================] - 2s 146ms/step - loss: 0.2283 - accuracy: 0.9559 - val_loss: 0.2933 - val_accuracy: 0.9199\n",
            "\n",
            "Epoch 00039: val_loss improved from 0.29790 to 0.29331, saving model to /content/drive/My Drive/Datasets/Weather_vgg19.weights.best.hdf5\n",
            "Epoch 40/100\n",
            "13/13 [==============================] - 2s 145ms/step - loss: 0.2412 - accuracy: 0.9403 - val_loss: 0.2899 - val_accuracy: 0.9139\n",
            "\n",
            "Epoch 00040: val_loss improved from 0.29331 to 0.28988, saving model to /content/drive/My Drive/Datasets/Weather_vgg19.weights.best.hdf5\n",
            "Epoch 41/100\n",
            "13/13 [==============================] - 2s 145ms/step - loss: 0.2400 - accuracy: 0.9370 - val_loss: 0.2905 - val_accuracy: 0.9199\n",
            "\n",
            "Epoch 00041: val_loss did not improve from 0.28988\n",
            "Epoch 42/100\n",
            "13/13 [==============================] - 2s 145ms/step - loss: 0.2380 - accuracy: 0.9376 - val_loss: 0.2864 - val_accuracy: 0.9139\n",
            "\n",
            "Epoch 00042: val_loss improved from 0.28988 to 0.28636, saving model to /content/drive/My Drive/Datasets/Weather_vgg19.weights.best.hdf5\n",
            "Epoch 43/100\n",
            "13/13 [==============================] - 2s 146ms/step - loss: 0.2257 - accuracy: 0.9411 - val_loss: 0.2840 - val_accuracy: 0.9199\n",
            "\n",
            "Epoch 00043: val_loss improved from 0.28636 to 0.28396, saving model to /content/drive/My Drive/Datasets/Weather_vgg19.weights.best.hdf5\n",
            "Epoch 44/100\n",
            "13/13 [==============================] - 2s 146ms/step - loss: 0.2280 - accuracy: 0.9448 - val_loss: 0.2786 - val_accuracy: 0.9228\n",
            "\n",
            "Epoch 00044: val_loss improved from 0.28396 to 0.27860, saving model to /content/drive/My Drive/Datasets/Weather_vgg19.weights.best.hdf5\n",
            "Epoch 45/100\n",
            "13/13 [==============================] - 2s 147ms/step - loss: 0.2451 - accuracy: 0.9412 - val_loss: 0.2783 - val_accuracy: 0.9139\n",
            "\n",
            "Epoch 00045: val_loss improved from 0.27860 to 0.27831, saving model to /content/drive/My Drive/Datasets/Weather_vgg19.weights.best.hdf5\n",
            "Epoch 46/100\n",
            "13/13 [==============================] - 2s 146ms/step - loss: 0.2159 - accuracy: 0.9426 - val_loss: 0.2723 - val_accuracy: 0.9110\n",
            "\n",
            "Epoch 00046: val_loss improved from 0.27831 to 0.27231, saving model to /content/drive/My Drive/Datasets/Weather_vgg19.weights.best.hdf5\n",
            "Epoch 47/100\n",
            "13/13 [==============================] - 2s 145ms/step - loss: 0.2093 - accuracy: 0.9463 - val_loss: 0.2705 - val_accuracy: 0.9169\n",
            "\n",
            "Epoch 00047: val_loss improved from 0.27231 to 0.27054, saving model to /content/drive/My Drive/Datasets/Weather_vgg19.weights.best.hdf5\n",
            "Epoch 48/100\n",
            "13/13 [==============================] - 2s 146ms/step - loss: 0.2280 - accuracy: 0.9365 - val_loss: 0.2692 - val_accuracy: 0.9169\n",
            "\n",
            "Epoch 00048: val_loss improved from 0.27054 to 0.26917, saving model to /content/drive/My Drive/Datasets/Weather_vgg19.weights.best.hdf5\n",
            "Epoch 49/100\n",
            "13/13 [==============================] - 2s 146ms/step - loss: 0.2237 - accuracy: 0.9443 - val_loss: 0.2702 - val_accuracy: 0.9169\n",
            "\n",
            "Epoch 00049: val_loss did not improve from 0.26917\n",
            "Epoch 50/100\n",
            "13/13 [==============================] - 2s 145ms/step - loss: 0.2228 - accuracy: 0.9446 - val_loss: 0.2669 - val_accuracy: 0.9139\n",
            "\n",
            "Epoch 00050: val_loss improved from 0.26917 to 0.26694, saving model to /content/drive/My Drive/Datasets/Weather_vgg19.weights.best.hdf5\n",
            "Epoch 51/100\n",
            "13/13 [==============================] - 2s 145ms/step - loss: 0.2001 - accuracy: 0.9571 - val_loss: 0.2633 - val_accuracy: 0.9169\n",
            "\n",
            "Epoch 00051: val_loss improved from 0.26694 to 0.26326, saving model to /content/drive/My Drive/Datasets/Weather_vgg19.weights.best.hdf5\n",
            "Epoch 52/100\n",
            "13/13 [==============================] - 2s 147ms/step - loss: 0.1965 - accuracy: 0.9633 - val_loss: 0.2608 - val_accuracy: 0.9139\n",
            "\n",
            "Epoch 00052: val_loss improved from 0.26326 to 0.26079, saving model to /content/drive/My Drive/Datasets/Weather_vgg19.weights.best.hdf5\n",
            "Epoch 53/100\n",
            "13/13 [==============================] - 2s 145ms/step - loss: 0.1957 - accuracy: 0.9524 - val_loss: 0.2573 - val_accuracy: 0.9169\n",
            "\n",
            "Epoch 00053: val_loss improved from 0.26079 to 0.25733, saving model to /content/drive/My Drive/Datasets/Weather_vgg19.weights.best.hdf5\n",
            "Epoch 54/100\n",
            "13/13 [==============================] - 2s 146ms/step - loss: 0.1940 - accuracy: 0.9511 - val_loss: 0.2579 - val_accuracy: 0.9169\n",
            "\n",
            "Epoch 00054: val_loss did not improve from 0.25733\n",
            "Epoch 55/100\n",
            "13/13 [==============================] - 2s 146ms/step - loss: 0.1939 - accuracy: 0.9519 - val_loss: 0.2546 - val_accuracy: 0.9169\n",
            "\n",
            "Epoch 00055: val_loss improved from 0.25733 to 0.25464, saving model to /content/drive/My Drive/Datasets/Weather_vgg19.weights.best.hdf5\n",
            "Epoch 56/100\n",
            "13/13 [==============================] - 2s 145ms/step - loss: 0.2011 - accuracy: 0.9516 - val_loss: 0.2551 - val_accuracy: 0.9199\n",
            "\n",
            "Epoch 00056: val_loss did not improve from 0.25464\n",
            "Epoch 57/100\n",
            "13/13 [==============================] - 2s 144ms/step - loss: 0.1884 - accuracy: 0.9470 - val_loss: 0.2510 - val_accuracy: 0.9139\n",
            "\n",
            "Epoch 00057: val_loss improved from 0.25464 to 0.25097, saving model to /content/drive/My Drive/Datasets/Weather_vgg19.weights.best.hdf5\n",
            "Epoch 58/100\n",
            "13/13 [==============================] - 2s 145ms/step - loss: 0.1844 - accuracy: 0.9559 - val_loss: 0.2486 - val_accuracy: 0.9139\n",
            "\n",
            "Epoch 00058: val_loss improved from 0.25097 to 0.24863, saving model to /content/drive/My Drive/Datasets/Weather_vgg19.weights.best.hdf5\n",
            "Epoch 59/100\n",
            "13/13 [==============================] - 2s 146ms/step - loss: 0.1874 - accuracy: 0.9554 - val_loss: 0.2484 - val_accuracy: 0.9139\n",
            "\n",
            "Epoch 00059: val_loss improved from 0.24863 to 0.24840, saving model to /content/drive/My Drive/Datasets/Weather_vgg19.weights.best.hdf5\n",
            "Epoch 60/100\n",
            "13/13 [==============================] - 2s 144ms/step - loss: 0.1832 - accuracy: 0.9510 - val_loss: 0.2463 - val_accuracy: 0.9199\n",
            "\n",
            "Epoch 00060: val_loss improved from 0.24840 to 0.24635, saving model to /content/drive/My Drive/Datasets/Weather_vgg19.weights.best.hdf5\n",
            "Epoch 61/100\n",
            "13/13 [==============================] - 2s 145ms/step - loss: 0.1560 - accuracy: 0.9630 - val_loss: 0.2435 - val_accuracy: 0.9169\n",
            "\n",
            "Epoch 00061: val_loss improved from 0.24635 to 0.24352, saving model to /content/drive/My Drive/Datasets/Weather_vgg19.weights.best.hdf5\n",
            "Epoch 62/100\n",
            "13/13 [==============================] - 2s 143ms/step - loss: 0.1941 - accuracy: 0.9571 - val_loss: 0.2438 - val_accuracy: 0.9169\n",
            "\n",
            "Epoch 00062: val_loss did not improve from 0.24352\n",
            "Epoch 63/100\n",
            "13/13 [==============================] - 2s 143ms/step - loss: 0.1773 - accuracy: 0.9613 - val_loss: 0.2437 - val_accuracy: 0.9169\n",
            "\n",
            "Epoch 00063: val_loss did not improve from 0.24352\n",
            "Epoch 64/100\n",
            "13/13 [==============================] - 2s 154ms/step - loss: 0.1788 - accuracy: 0.9597 - val_loss: 0.2425 - val_accuracy: 0.9199\n",
            "\n",
            "Epoch 00064: val_loss improved from 0.24352 to 0.24245, saving model to /content/drive/My Drive/Datasets/Weather_vgg19.weights.best.hdf5\n",
            "Epoch 65/100\n",
            "13/13 [==============================] - 2s 145ms/step - loss: 0.1596 - accuracy: 0.9624 - val_loss: 0.2397 - val_accuracy: 0.9199\n",
            "\n",
            "Epoch 00065: val_loss improved from 0.24245 to 0.23972, saving model to /content/drive/My Drive/Datasets/Weather_vgg19.weights.best.hdf5\n",
            "Epoch 66/100\n",
            "13/13 [==============================] - 2s 146ms/step - loss: 0.1800 - accuracy: 0.9558 - val_loss: 0.2399 - val_accuracy: 0.9199\n",
            "\n",
            "Epoch 00066: val_loss did not improve from 0.23972\n",
            "Epoch 67/100\n",
            "13/13 [==============================] - 2s 146ms/step - loss: 0.1555 - accuracy: 0.9615 - val_loss: 0.2395 - val_accuracy: 0.9199\n",
            "\n",
            "Epoch 00067: val_loss improved from 0.23972 to 0.23947, saving model to /content/drive/My Drive/Datasets/Weather_vgg19.weights.best.hdf5\n",
            "Epoch 68/100\n",
            "13/13 [==============================] - 2s 144ms/step - loss: 0.1692 - accuracy: 0.9732 - val_loss: 0.2351 - val_accuracy: 0.9199\n",
            "\n",
            "Epoch 00068: val_loss improved from 0.23947 to 0.23507, saving model to /content/drive/My Drive/Datasets/Weather_vgg19.weights.best.hdf5\n",
            "Epoch 69/100\n",
            "13/13 [==============================] - 2s 145ms/step - loss: 0.1652 - accuracy: 0.9620 - val_loss: 0.2370 - val_accuracy: 0.9169\n",
            "\n",
            "Epoch 00069: val_loss did not improve from 0.23507\n",
            "Epoch 70/100\n",
            "13/13 [==============================] - 2s 147ms/step - loss: 0.1803 - accuracy: 0.9415 - val_loss: 0.2351 - val_accuracy: 0.9199\n",
            "\n",
            "Epoch 00070: val_loss did not improve from 0.23507\n",
            "Epoch 71/100\n",
            "13/13 [==============================] - 2s 145ms/step - loss: 0.1390 - accuracy: 0.9741 - val_loss: 0.2349 - val_accuracy: 0.9199\n",
            "\n",
            "Epoch 00071: val_loss improved from 0.23507 to 0.23487, saving model to /content/drive/My Drive/Datasets/Weather_vgg19.weights.best.hdf5\n",
            "Epoch 72/100\n",
            "13/13 [==============================] - 2s 147ms/step - loss: 0.1733 - accuracy: 0.9512 - val_loss: 0.2331 - val_accuracy: 0.9228\n",
            "\n",
            "Epoch 00072: val_loss improved from 0.23487 to 0.23309, saving model to /content/drive/My Drive/Datasets/Weather_vgg19.weights.best.hdf5\n",
            "Epoch 73/100\n",
            "13/13 [==============================] - 2s 147ms/step - loss: 0.1712 - accuracy: 0.9541 - val_loss: 0.2297 - val_accuracy: 0.9199\n",
            "\n",
            "Epoch 00073: val_loss improved from 0.23309 to 0.22974, saving model to /content/drive/My Drive/Datasets/Weather_vgg19.weights.best.hdf5\n",
            "Epoch 74/100\n",
            "13/13 [==============================] - 2s 147ms/step - loss: 0.1625 - accuracy: 0.9632 - val_loss: 0.2300 - val_accuracy: 0.9199\n",
            "\n",
            "Epoch 00074: val_loss did not improve from 0.22974\n",
            "Epoch 75/100\n",
            "13/13 [==============================] - 2s 147ms/step - loss: 0.1513 - accuracy: 0.9612 - val_loss: 0.2288 - val_accuracy: 0.9169\n",
            "\n",
            "Epoch 00075: val_loss improved from 0.22974 to 0.22880, saving model to /content/drive/My Drive/Datasets/Weather_vgg19.weights.best.hdf5\n",
            "Epoch 76/100\n",
            "13/13 [==============================] - 2s 147ms/step - loss: 0.1409 - accuracy: 0.9709 - val_loss: 0.2267 - val_accuracy: 0.9199\n",
            "\n",
            "Epoch 00076: val_loss improved from 0.22880 to 0.22668, saving model to /content/drive/My Drive/Datasets/Weather_vgg19.weights.best.hdf5\n",
            "Epoch 77/100\n",
            "13/13 [==============================] - 2s 147ms/step - loss: 0.1395 - accuracy: 0.9682 - val_loss: 0.2252 - val_accuracy: 0.9228\n",
            "\n",
            "Epoch 00077: val_loss improved from 0.22668 to 0.22516, saving model to /content/drive/My Drive/Datasets/Weather_vgg19.weights.best.hdf5\n",
            "Epoch 78/100\n",
            "13/13 [==============================] - 2s 146ms/step - loss: 0.1473 - accuracy: 0.9591 - val_loss: 0.2255 - val_accuracy: 0.9199\n",
            "\n",
            "Epoch 00078: val_loss did not improve from 0.22516\n",
            "Epoch 79/100\n",
            "13/13 [==============================] - 2s 145ms/step - loss: 0.1493 - accuracy: 0.9679 - val_loss: 0.2245 - val_accuracy: 0.9199\n",
            "\n",
            "Epoch 00079: val_loss improved from 0.22516 to 0.22451, saving model to /content/drive/My Drive/Datasets/Weather_vgg19.weights.best.hdf5\n",
            "Epoch 80/100\n",
            "13/13 [==============================] - 2s 146ms/step - loss: 0.1600 - accuracy: 0.9623 - val_loss: 0.2250 - val_accuracy: 0.9228\n",
            "\n",
            "Epoch 00080: val_loss did not improve from 0.22451\n",
            "Epoch 81/100\n",
            "13/13 [==============================] - 2s 147ms/step - loss: 0.1379 - accuracy: 0.9714 - val_loss: 0.2239 - val_accuracy: 0.9199\n",
            "\n",
            "Epoch 00081: val_loss improved from 0.22451 to 0.22386, saving model to /content/drive/My Drive/Datasets/Weather_vgg19.weights.best.hdf5\n",
            "Epoch 82/100\n",
            "13/13 [==============================] - 2s 146ms/step - loss: 0.1418 - accuracy: 0.9692 - val_loss: 0.2249 - val_accuracy: 0.9169\n",
            "\n",
            "Epoch 00082: val_loss did not improve from 0.22386\n",
            "Epoch 83/100\n",
            "13/13 [==============================] - 2s 147ms/step - loss: 0.1404 - accuracy: 0.9724 - val_loss: 0.2233 - val_accuracy: 0.9199\n",
            "\n",
            "Epoch 00083: val_loss improved from 0.22386 to 0.22333, saving model to /content/drive/My Drive/Datasets/Weather_vgg19.weights.best.hdf5\n",
            "Epoch 84/100\n",
            "13/13 [==============================] - 2s 146ms/step - loss: 0.1437 - accuracy: 0.9691 - val_loss: 0.2207 - val_accuracy: 0.9199\n",
            "\n",
            "Epoch 00084: val_loss improved from 0.22333 to 0.22074, saving model to /content/drive/My Drive/Datasets/Weather_vgg19.weights.best.hdf5\n",
            "Epoch 85/100\n",
            "13/13 [==============================] - 2s 148ms/step - loss: 0.1458 - accuracy: 0.9673 - val_loss: 0.2214 - val_accuracy: 0.9228\n",
            "\n",
            "Epoch 00085: val_loss did not improve from 0.22074\n",
            "Epoch 86/100\n",
            "13/13 [==============================] - 2s 146ms/step - loss: 0.1372 - accuracy: 0.9747 - val_loss: 0.2194 - val_accuracy: 0.9228\n",
            "\n",
            "Epoch 00086: val_loss improved from 0.22074 to 0.21938, saving model to /content/drive/My Drive/Datasets/Weather_vgg19.weights.best.hdf5\n",
            "Epoch 87/100\n",
            "13/13 [==============================] - 2s 146ms/step - loss: 0.1208 - accuracy: 0.9778 - val_loss: 0.2213 - val_accuracy: 0.9199\n",
            "\n",
            "Epoch 00087: val_loss did not improve from 0.21938\n",
            "Epoch 88/100\n",
            "13/13 [==============================] - 2s 145ms/step - loss: 0.1321 - accuracy: 0.9759 - val_loss: 0.2190 - val_accuracy: 0.9258\n",
            "\n",
            "Epoch 00088: val_loss improved from 0.21938 to 0.21896, saving model to /content/drive/My Drive/Datasets/Weather_vgg19.weights.best.hdf5\n",
            "Epoch 89/100\n",
            "13/13 [==============================] - 2s 145ms/step - loss: 0.1312 - accuracy: 0.9788 - val_loss: 0.2188 - val_accuracy: 0.9258\n",
            "\n",
            "Epoch 00089: val_loss improved from 0.21896 to 0.21879, saving model to /content/drive/My Drive/Datasets/Weather_vgg19.weights.best.hdf5\n",
            "Epoch 90/100\n",
            "13/13 [==============================] - 2s 144ms/step - loss: 0.1419 - accuracy: 0.9671 - val_loss: 0.2178 - val_accuracy: 0.9318\n",
            "\n",
            "Epoch 00090: val_loss improved from 0.21879 to 0.21779, saving model to /content/drive/My Drive/Datasets/Weather_vgg19.weights.best.hdf5\n",
            "Epoch 91/100\n",
            "13/13 [==============================] - 2s 146ms/step - loss: 0.1224 - accuracy: 0.9717 - val_loss: 0.2166 - val_accuracy: 0.9228\n",
            "\n",
            "Epoch 00091: val_loss improved from 0.21779 to 0.21656, saving model to /content/drive/My Drive/Datasets/Weather_vgg19.weights.best.hdf5\n",
            "Epoch 92/100\n",
            "13/13 [==============================] - 2s 146ms/step - loss: 0.1184 - accuracy: 0.9850 - val_loss: 0.2202 - val_accuracy: 0.9199\n",
            "\n",
            "Epoch 00092: val_loss did not improve from 0.21656\n",
            "Epoch 93/100\n",
            "13/13 [==============================] - 2s 145ms/step - loss: 0.1218 - accuracy: 0.9706 - val_loss: 0.2163 - val_accuracy: 0.9199\n",
            "\n",
            "Epoch 00093: val_loss improved from 0.21656 to 0.21630, saving model to /content/drive/My Drive/Datasets/Weather_vgg19.weights.best.hdf5\n",
            "Epoch 94/100\n",
            "13/13 [==============================] - 2s 145ms/step - loss: 0.1092 - accuracy: 0.9834 - val_loss: 0.2146 - val_accuracy: 0.9199\n",
            "\n",
            "Epoch 00094: val_loss improved from 0.21630 to 0.21457, saving model to /content/drive/My Drive/Datasets/Weather_vgg19.weights.best.hdf5\n",
            "Epoch 95/100\n",
            "13/13 [==============================] - 2s 145ms/step - loss: 0.1128 - accuracy: 0.9860 - val_loss: 0.2132 - val_accuracy: 0.9199\n",
            "\n",
            "Epoch 00095: val_loss improved from 0.21457 to 0.21317, saving model to /content/drive/My Drive/Datasets/Weather_vgg19.weights.best.hdf5\n",
            "Epoch 96/100\n",
            "13/13 [==============================] - 2s 145ms/step - loss: 0.1010 - accuracy: 0.9853 - val_loss: 0.2130 - val_accuracy: 0.9228\n",
            "\n",
            "Epoch 00096: val_loss improved from 0.21317 to 0.21302, saving model to /content/drive/My Drive/Datasets/Weather_vgg19.weights.best.hdf5\n",
            "Epoch 97/100\n",
            "13/13 [==============================] - 2s 146ms/step - loss: 0.1297 - accuracy: 0.9658 - val_loss: 0.2106 - val_accuracy: 0.9288\n",
            "\n",
            "Epoch 00097: val_loss improved from 0.21302 to 0.21063, saving model to /content/drive/My Drive/Datasets/Weather_vgg19.weights.best.hdf5\n",
            "Epoch 98/100\n",
            "13/13 [==============================] - 2s 147ms/step - loss: 0.1153 - accuracy: 0.9705 - val_loss: 0.2106 - val_accuracy: 0.9228\n",
            "\n",
            "Epoch 00098: val_loss did not improve from 0.21063\n",
            "Epoch 99/100\n",
            "13/13 [==============================] - 2s 145ms/step - loss: 0.1124 - accuracy: 0.9794 - val_loss: 0.2107 - val_accuracy: 0.9258\n",
            "\n",
            "Epoch 00099: val_loss did not improve from 0.21063\n",
            "Epoch 100/100\n",
            "13/13 [==============================] - 2s 146ms/step - loss: 0.1094 - accuracy: 0.9773 - val_loss: 0.2112 - val_accuracy: 0.9258\n",
            "\n",
            "Epoch 00100: val_loss did not improve from 0.21063\n"
          ],
          "name": "stdout"
        }
      ]
    },
    {
      "cell_type": "code",
      "metadata": {
        "colab": {
          "base_uri": "https://localhost:8080/",
          "height": 863
        },
        "id": "KdLuL5o9eciQ",
        "outputId": "2f4acae6-2006-440b-ce9f-7151af0f345e"
      },
      "source": [
        "# summarize history for accuracy\n",
        "plt.plot(history.history['accuracy'])\n",
        "plt.plot(history.history['val_accuracy'])\n",
        "plt.title('model accuracy')\n",
        "plt.ylabel('accuracy')\n",
        "plt.xlabel('epoch')\n",
        "plt.legend(['train', 'test'], loc='lower right')\n",
        "plt.show()\n",
        "# summarize history for loss\n",
        "plt.plot(history.history['loss'])\n",
        "plt.plot(history.history['val_loss'])\n",
        "plt.title('model loss')\n",
        "plt.ylabel('loss')\n",
        "plt.xlabel('epoch')\n",
        "plt.legend(['train', 'test'], loc='upper right')\n",
        "plt.show()\n",
        "# Accuracy history with loss\n",
        "plt.plot(history.history['accuracy'])\n",
        "plt.plot(history.history['loss'])\n",
        "plt.title('accuracy w.r.t Loss')\n",
        "plt.ylabel('accuracy')\n",
        "plt.xlabel('epoch')\n",
        "plt.legend(['acc', 'loss'], loc='upper right')\n",
        "plt.show()"
      ],
      "execution_count": null,
      "outputs": [
        {
          "output_type": "display_data",
          "data": {
            "image/png": "[encoded data removed]",
            "text/plain": [
              "<Figure size 432x288 with 1 Axes>"
            ]
          },
          "metadata": {
            "tags": []
          }
        },
        {
          "output_type": "display_data",
          "data": {
            "image/png": "[encoded data removed]",
            "text/plain": [
              "<Figure size 432x288 with 1 Axes>"
            ]
          },
          "metadata": {
            "tags": []
          }
        },
        {
          "output_type": "display_data",
          "data": {
            "image/png": "[encoded data removed]",
            "text/plain": [
              "<Figure size 432x288 with 1 Axes>"
            ]
          },
          "metadata": {
            "tags": []
          }
        }
      ]
    },
    {
      "cell_type": "code",
      "metadata": {
        "colab": {
          "base_uri": "https://localhost:8080/",
          "height": 535
        },
        "id": "uU8jipx1kiFH",
        "outputId": "bc765fa6-48ab-48aa-85fb-3e04650426f0"
      },
      "source": [
        "# plot the training loss and accuracy\n",
        "N = np.arange(0, 100)\n",
        "plt.style.use(\"ggplot\")\n",
        "plt.figure(figsize=(8, 6),dpi=96)\n",
        "plt.plot(N, history.history[\"loss\"], label=\"train_loss\")\n",
        "plt.plot(N, history.history[\"val_loss\"], label=\"val_loss\")\n",
        "plt.plot(N, history.history[\"accuracy\"], label=\"train_acc\")\n",
        "plt.plot(N, history.history[\"val_accuracy\"], label=\"val_acc\")\n",
        "plt.title(\"Training Loss and Accuracy on Dataset\")\n",
        "plt.xlabel(\"Epoch #\")\n",
        "plt.ylabel(\"Loss/Accuracy\")\n",
        "plt.legend(loc=\"lower left\")\n",
        "plt.show()"
      ],
      "execution_count": null,
      "outputs": [
        {
          "output_type": "display_data",
          "data": {
            "image/png": "[encoded data removed]",
            "text/plain": [
              "<Figure size 768x576 with 1 Axes>"
            ]
          },
          "metadata": {
            "tags": []
          }
        }
      ]
    },
    {
      "cell_type": "code",
      "metadata": {
        "id": "2q6BsY5ffN9-"
      },
      "source": [
        "#load the weights that yielded the best validation accuracy\n",
        "model_vgg.load_weights('/content/drive/My Drive/Datasets/Weather_vgg19.weights.best.hdf5')"
      ],
      "execution_count": null,
      "outputs": []
    },
    {
      "cell_type": "code",
      "metadata": {
        "colab": {
          "base_uri": "https://localhost:8080/"
        },
        "id": "ZMeFerpOfchY",
        "outputId": "c30db002-2ba0-4472-df81-c7b598a8ef73"
      },
      "source": [
        "# Evaluate the model w.r.t Train Loss and Train Accuracy\n",
        "score = model_vgg.evaluate(X_train, y_train, verbose=1)\n",
        "\n",
        "print('Train Loss:{:.3f}%'.format(score[0]*100))\n",
        "\n",
        "print('Train accuracy:{:.3f}%'.format(score[1]*100))\n",
        "# Evaluate the model w.r.t Test Loss and Test Accuracy\n",
        "score = model_vgg.evaluate(X_test, y_test, verbose=1)\n",
        "print('Test Loss:{:.3f}%'.format(score[0]*100))\n",
        "\n",
        "print('Test accuracy:{:.3f}%'.format(score[1]*100))\n"
      ],
      "execution_count": null,
      "outputs": [
        {
          "output_type": "stream",
          "text": [
            "25/25 [==============================] - 2s 55ms/step - loss: 0.0541 - accuracy: 0.9962\n",
            "Train Loss:5.407%\n",
            "Train accuracy:99.618%\n",
            "11/11 [==============================] - 1s 53ms/step - loss: 0.2106 - accuracy: 0.9288\n",
            "Test Loss:21.063%\n",
            "Test accuracy:92.878%\n"
          ],
          "name": "stdout"
        }
      ]
    },
    {
      "cell_type": "code",
      "metadata": {
        "colab": {
          "base_uri": "https://localhost:8080/"
        },
        "id": "61ZrKFavfqT_",
        "outputId": "78783700-95b1-4c1e-9815-1910cf2385aa"
      },
      "source": [
        "y_pred = model_vgg.predict(X_test)\n",
        "print(classification_report(np.argmax(y_test,axis=-1),np.argmax(y_pred,axis=-1),target_names=names))"
      ],
      "execution_count": null,
      "outputs": [
        {
          "output_type": "stream",
          "text": [
            "              precision    recall  f1-score   support\n",
            "\n",
            "      Cloudy       0.90      0.89      0.90        91\n",
            "        Rain       0.95      0.93      0.94        58\n",
            "       Shine       0.86      0.91      0.88        75\n",
            "     Sunrise       0.99      0.97      0.98       113\n",
            "\n",
            "    accuracy                           0.93       337\n",
            "   macro avg       0.92      0.93      0.92       337\n",
            "weighted avg       0.93      0.93      0.93       337\n",
            "\n"
          ],
          "name": "stdout"
        }
      ]
    },
    {
      "cell_type": "code",
      "metadata": {
        "colab": {
          "base_uri": "https://localhost:8080/",
          "height": 412
        },
        "id": "abJ31hMpf4sa",
        "outputId": "4139dfae-34fa-447b-98f8-688faf81a2d9"
      },
      "source": [
        "import pandas as pd\n",
        "import seaborn as sns\n",
        "model_accuracy=score[1]\n",
        "cm = confusion_matrix(np.argmax(y_test,axis=-1),np.argmax(y_pred,axis=-1))\n",
        "cm_df = pd.DataFrame(cm,\n",
        "index = ['Cloudy','Rain','Shine','Sunrise' ],\n",
        "columns = ['Cloudy','Rain','Shine','Sunrise'])\n",
        "plt.figure(figsize=(4,3),dpi=96)\n",
        "sns.heatmap(cm_df, annot=True,cmap='YlGnBu_r',fmt='g')\n",
        "plt.title('Weather Recogniton VGG19 \\n Accuray ={0:.2f}% '.format(model_accuracy*100))\n",
        "plt.ylabel('True label')\n",
        "plt.xlabel('Predicted label')\n",
        "plt.show()\n",
        "print(cm)"
      ],
      "execution_count": null,
      "outputs": [
        {
          "output_type": "display_data",
          "data": {
            "image/png": "[encoded data removed]",
            "text/plain": [
              "<Figure size 384x288 with 2 Axes>"
            ]
          },
          "metadata": {
            "tags": []
          }
        },
        {
          "output_type": "stream",
          "text": [
            "[[ 81   1   9   0]\n",
            " [  3  54   1   0]\n",
            " [  4   2  68   1]\n",
            " [  2   0   1 110]]\n"
          ],
          "name": "stdout"
        }
      ]
    },
    {
      "cell_type": "code",
      "metadata": {
        "id": "bfRvjjT2gGkE"
      },
      "source": [],
      "execution_count": null,
      "outputs": []
    }
  ]
}